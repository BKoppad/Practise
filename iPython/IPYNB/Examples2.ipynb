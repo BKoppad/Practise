{
 "cells": [
  {
   "cell_type": "raw",
   "id": "c7f04c06-8ec3-4d13-8ec0-5235ee27341f",
   "metadata": {},
   "source": [
    "Check Password"
   ]
  },
  {
   "cell_type": "code",
   "execution_count": 12,
   "id": "5a66bfd0-a126-4be2-9260-257c04ea279e",
   "metadata": {},
   "outputs": [
    {
     "name": "stdin",
     "output_type": "stream",
     "text": [
      "Enter Password  Basu19\n"
     ]
    },
    {
     "name": "stdout",
     "output_type": "stream",
     "text": [
      "<re.Match object; span=(4, 5), match='1'>\n",
      "Yes\n"
     ]
    }
   ],
   "source": [
    "import re\n",
    "psw=input(\"Enter Password \")\n",
    "m1=re.search(r'[a-z]',psw)\n",
    "m2=re.search(r'[A-Z]',psw)\n",
    "m3=re.search(r'\\d',psw)\n",
    "print(m3)\n",
    "if m1 and m2 and m3 and len(psw)>5:\n",
    "    print(\"Yes\")\n",
    "else:\n",
    "    print(\"No\")"
   ]
  },
  {
   "cell_type": "code",
   "execution_count": null,
   "id": "bc5e6f26-c6a6-4d1f-8a2f-cb1fa19fd094",
   "metadata": {},
   "outputs": [],
   "source": []
  },
  {
   "cell_type": "raw",
   "id": "75f8b3bf-20ca-4aad-a724-3e5bbf0cb1d9",
   "metadata": {},
   "source": [
    "Decorators"
   ]
  },
  {
   "cell_type": "code",
   "execution_count": 13,
   "id": "ab9a2fe2-008e-487e-9439-a749cb3e5997",
   "metadata": {},
   "outputs": [
    {
     "name": "stdout",
     "output_type": "stream",
     "text": [
      "[4, 20, 10, 13]\n"
     ]
    }
   ],
   "source": [
    "def decorator_list(fnc):\n",
    "    def inner(list_of_tuples):\n",
    "        return [fnc(val[0], val[1]) for val in list_of_tuples]\n",
    "    return inner\n",
    "\n",
    "\n",
    "@decorator_list\n",
    "def add_together(a, b):\n",
    "    return a + b\n",
    "\n",
    "\n",
    "print(add_together([(1, 3), (3, 17), (5, 5), (6, 7)]))"
   ]
  },
  {
   "cell_type": "code",
   "execution_count": null,
   "id": "3231c777-8b7a-43b8-8f2f-212bb8d69ec7",
   "metadata": {},
   "outputs": [],
   "source": []
  }
 ],
 "metadata": {
  "kernelspec": {
   "display_name": "Python 3 (ipykernel)",
   "language": "python",
   "name": "python3"
  },
  "language_info": {
   "codemirror_mode": {
    "name": "ipython",
    "version": 3
   },
   "file_extension": ".py",
   "mimetype": "text/x-python",
   "name": "python",
   "nbconvert_exporter": "python",
   "pygments_lexer": "ipython3",
   "version": "3.9.12"
  }
 },
 "nbformat": 4,
 "nbformat_minor": 5
}
