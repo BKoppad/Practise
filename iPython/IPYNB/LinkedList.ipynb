{
 "cells": [
  {
   "cell_type": "markdown",
   "id": "3712c314-4962-4d9c-a16c-cf736edf8c75",
   "metadata": {},
   "source": [
    "Creating a New Linked List Data Structure"
   ]
  },
  {
   "cell_type": "code",
   "execution_count": 21,
   "id": "75413221-3b29-41c1-83f1-e6f98f30f05b",
   "metadata": {},
   "outputs": [
    {
     "name": "stdout",
     "output_type": "stream",
     "text": [
      "3\n",
      "4\n",
      "3\n",
      "4\n"
     ]
    }
   ],
   "source": [
    "class Node:\n",
    "    def __init__(self,value):\n",
    "        self.value=value\n",
    "        self.next=None\n",
    "\n",
    "class LinkedList:\n",
    "    def __init__(self,value):\n",
    "        new_node = Node(value)\n",
    "        self.head=new_node\n",
    "        self.tail=new_node\n",
    "        self.length=1\n",
    "        \n",
    "    def print_list(self):\n",
    "        temp=self.head\n",
    "        while temp is not None:\n",
    "            print(temp.value)\n",
    "            temp= temp.next\n",
    "    \n",
    "    def append(self,value):\n",
    "        new_node=Node(value)\n",
    "        if self.head != None:\n",
    "            self.tail.next=new_node\n",
    "            self.tail=new_node\n",
    "        else:\n",
    "            self.head=new_node\n",
    "            self.tail=new_node\n",
    "        self.length+=1\n",
    "        \n",
    "#my_linked_list= LinkedList(3)\n",
    "my_linked_list.print_list()\n",
    "#my_linked_list.append(4)\n",
    "my_linked_list.print_list()"
   ]
  },
  {
   "cell_type": "code",
   "execution_count": null,
   "id": "66135269-ed9c-4f68-a0d3-2289c83ed67f",
   "metadata": {},
   "outputs": [],
   "source": []
  },
  {
   "cell_type": "code",
   "execution_count": null,
   "id": "7f1944b9-075a-4539-9193-8cb08f76fb1a",
   "metadata": {},
   "outputs": [],
   "source": []
  },
  {
   "cell_type": "code",
   "execution_count": null,
   "id": "375f21c5-9df6-488f-96e4-c79ad8484d80",
   "metadata": {},
   "outputs": [],
   "source": []
  },
  {
   "cell_type": "markdown",
   "id": "d46bca74-4271-45b5-bb80-b683dff2533f",
   "metadata": {},
   "source": []
  },
  {
   "cell_type": "code",
   "execution_count": null,
   "id": "ab37b524-b670-42f2-bf5f-091e79c93a44",
   "metadata": {},
   "outputs": [],
   "source": []
  },
  {
   "cell_type": "code",
   "execution_count": null,
   "id": "2e60e746-9e5a-45b1-ae12-aebaa948f986",
   "metadata": {},
   "outputs": [],
   "source": []
  },
  {
   "cell_type": "markdown",
   "id": "978c92a0-a6f0-4586-b792-235f3cecc1ba",
   "metadata": {},
   "source": []
  },
  {
   "cell_type": "code",
   "execution_count": null,
   "id": "75cdb842-57b3-4afe-b710-e39e7f642209",
   "metadata": {},
   "outputs": [],
   "source": []
  },
  {
   "cell_type": "code",
   "execution_count": null,
   "id": "dfeb5702-5eea-406d-be05-49a9c011e7c9",
   "metadata": {},
   "outputs": [],
   "source": []
  },
  {
   "cell_type": "markdown",
   "id": "e67ff0d1-1721-4d8b-ae55-c4fa4dece67e",
   "metadata": {},
   "source": []
  },
  {
   "cell_type": "code",
   "execution_count": null,
   "id": "c8673378-c2a9-4b8b-adc0-bb26844ede21",
   "metadata": {},
   "outputs": [],
   "source": []
  },
  {
   "cell_type": "markdown",
   "id": "a09c9263-f552-4809-b5b0-37a9a49254a4",
   "metadata": {},
   "source": []
  },
  {
   "cell_type": "code",
   "execution_count": null,
   "id": "652e59a3-d14a-4e8d-b2fd-3b024581144d",
   "metadata": {},
   "outputs": [],
   "source": []
  },
  {
   "cell_type": "code",
   "execution_count": null,
   "id": "9e71dc91-fb66-4c36-b80e-78529a8a2c4e",
   "metadata": {},
   "outputs": [],
   "source": []
  },
  {
   "cell_type": "code",
   "execution_count": null,
   "id": "1aab5640-0ca9-4a79-a645-8407b7300f32",
   "metadata": {},
   "outputs": [],
   "source": []
  }
 ],
 "metadata": {
  "kernelspec": {
   "display_name": "Python 3 (ipykernel)",
   "language": "python",
   "name": "python3"
  },
  "language_info": {
   "codemirror_mode": {
    "name": "ipython",
    "version": 3
   },
   "file_extension": ".py",
   "mimetype": "text/x-python",
   "name": "python",
   "nbconvert_exporter": "python",
   "pygments_lexer": "ipython3",
   "version": "3.9.12"
  }
 },
 "nbformat": 4,
 "nbformat_minor": 5
}
