{
 "cells": [
  {
   "cell_type": "markdown",
   "id": "d1621bc8-a01b-4f10-8a58-40d9a99f9dee",
   "metadata": {},
   "source": [
    "import numpy as np\n",
    "a=np.array([1,2,3])\n",
    "b=np.array([4,5,6])"
   ]
  },
  {
   "cell_type": "code",
   "execution_count": 7,
   "id": "2ca44c3b-4e62-4620-8d6a-9c43ec056b8e",
   "metadata": {},
   "outputs": [
    {
     "data": {
      "text/plain": [
       "array([ 6, 15])"
      ]
     },
     "execution_count": 7,
     "metadata": {},
     "output_type": "execute_result"
    }
   ],
   "source": [
    "np.sum((a,b),axis=1)"
   ]
  },
  {
   "cell_type": "markdown",
   "id": "2ca35978-b6dd-4ad3-b0f2-764283fe66a9",
   "metadata": {
    "tags": []
   },
   "source": [
    "# Find N Largest number from numpy array\n",
    "# [12,43,2,100,54,5,68] ==> 100 , 68"
   ]
  },
  {
   "cell_type": "code",
   "execution_count": null,
   "id": "88b40777-3099-4138-96fd-b14262537f28",
   "metadata": {},
   "outputs": [],
   "source": []
  },
  {
   "cell_type": "code",
   "execution_count": 9,
   "id": "91b95400-6eb5-4bc3-9c14-fd244cf12bb7",
   "metadata": {},
   "outputs": [],
   "source": [
    "x = np.array([12,43,2,100,54,5,68])"
   ]
  },
  {
   "cell_type": "code",
   "execution_count": 12,
   "id": "d14a56da-8c65-43f7-8b93-41766a52f5b5",
   "metadata": {},
   "outputs": [
    {
     "data": {
      "text/plain": [
       "array([ 12,  43,   2, 100,  54,   5,  68])"
      ]
     },
     "execution_count": 12,
     "metadata": {},
     "output_type": "execute_result"
    }
   ],
   "source": [
    "x"
   ]
  },
  {
   "cell_type": "code",
   "execution_count": 10,
   "id": "cb3090fc-401f-4bbe-8221-5422f82c96ef",
   "metadata": {},
   "outputs": [],
   "source": [
    "temp = np.argsort(x)"
   ]
  },
  {
   "cell_type": "code",
   "execution_count": 14,
   "id": "719378e7-cdf4-4a77-9a86-92b8ffb3a92e",
   "metadata": {},
   "outputs": [
    {
     "data": {
      "text/plain": [
       "array([2, 5, 0, 1, 4, 6, 3])"
      ]
     },
     "execution_count": 14,
     "metadata": {},
     "output_type": "execute_result"
    }
   ],
   "source": [
    "temp"
   ]
  },
  {
   "cell_type": "code",
   "execution_count": 16,
   "id": "e594fcb6-4ebf-4486-891a-186162f4add1",
   "metadata": {},
   "outputs": [
    {
     "data": {
      "text/plain": [
       "array([ 68, 100])"
      ]
     },
     "execution_count": 16,
     "metadata": {},
     "output_type": "execute_result"
    }
   ],
   "source": [
    "x[temp[-2:]]"
   ]
  },
  {
   "cell_type": "markdown",
   "id": "c92c0a6f-49f8-46b6-b9e1-29cd01762ae3",
   "metadata": {},
   "source": [
    "x[temp[-2:][::-1]]"
   ]
  },
  {
   "cell_type": "markdown",
   "id": "ce855a73-ee90-456d-9324-9a832a35fb3e",
   "metadata": {
    "tags": []
   },
   "source": [
    "# Replace odd in an array with -1"
   ]
  },
  {
   "cell_type": "code",
   "execution_count": 25,
   "id": "05414fc3-15be-45ef-9980-2e2a1e1cde35",
   "metadata": {},
   "outputs": [
    {
     "data": {
      "text/plain": [
       "array([0, 1, 2, 3, 4, 5, 6, 7, 8, 9])"
      ]
     },
     "execution_count": 25,
     "metadata": {},
     "output_type": "execute_result"
    }
   ],
   "source": [
    "a = np.arange(0,10)\n",
    "b=a\n",
    "a"
   ]
  },
  {
   "cell_type": "code",
   "execution_count": 26,
   "id": "a4906049-ee52-4c63-bc58-2c1a59abfc64",
   "metadata": {},
   "outputs": [
    {
     "data": {
      "text/plain": [
       "array([0, 1, 2, 3, 4, 5, 6, 7, 8, 9])"
      ]
     },
     "execution_count": 26,
     "metadata": {},
     "output_type": "execute_result"
    }
   ],
   "source": [
    "b"
   ]
  },
  {
   "cell_type": "code",
   "execution_count": 20,
   "id": "fb2b3092-3e7a-4efc-8825-84bc8e905bf5",
   "metadata": {},
   "outputs": [],
   "source": [
    "index = 0\n",
    "for x in a:\n",
    "    if x % 2 == 1:\n",
    "        a[index]=-1\n",
    "        \n",
    "    index+=1"
   ]
  },
  {
   "cell_type": "code",
   "execution_count": 21,
   "id": "78b673de-88f1-4fa3-8b94-fd0573bf57ea",
   "metadata": {},
   "outputs": [
    {
     "data": {
      "text/plain": [
       "array([ 0, -1,  2, -1,  4, -1,  6, -1,  8, -1])"
      ]
     },
     "execution_count": 21,
     "metadata": {},
     "output_type": "execute_result"
    }
   ],
   "source": [
    "a"
   ]
  },
  {
   "cell_type": "code",
   "execution_count": 27,
   "id": "9ed8abbc-26cd-4406-88bc-83ad3561ae0e",
   "metadata": {},
   "outputs": [
    {
     "data": {
      "text/plain": [
       "array([0, 1, 2, 3, 4, 5, 6, 7, 8, 9])"
      ]
     },
     "execution_count": 27,
     "metadata": {},
     "output_type": "execute_result"
    }
   ],
   "source": [
    "b"
   ]
  },
  {
   "cell_type": "code",
   "execution_count": 28,
   "id": "97f37847-19a4-4afd-ae29-995bfc96e7be",
   "metadata": {},
   "outputs": [],
   "source": [
    "b[b%2==1]=-1"
   ]
  },
  {
   "cell_type": "code",
   "execution_count": 29,
   "id": "04c844f0-6feb-4bc6-a3a4-5ca5b57e4e72",
   "metadata": {},
   "outputs": [
    {
     "data": {
      "text/plain": [
       "array([ 0, -1,  2, -1,  4, -1,  6, -1,  8, -1])"
      ]
     },
     "execution_count": 29,
     "metadata": {},
     "output_type": "execute_result"
    }
   ],
   "source": [
    "b"
   ]
  },
  {
   "cell_type": "code",
   "execution_count": 1,
   "id": "897cc2a6-77df-4955-9f4d-eb1bc159a3d4",
   "metadata": {},
   "outputs": [],
   "source": [
    "lista=[1,2,65,7,8,25]"
   ]
  },
  {
   "cell_type": "code",
   "execution_count": null,
   "id": "3e941186-c841-467d-ad11-52a6fd50e0be",
   "metadata": {},
   "outputs": [],
   "source": []
  },
  {
   "cell_type": "code",
   "execution_count": 8,
   "id": "45438159-707a-4360-a100-310362a8cb1d",
   "metadata": {},
   "outputs": [
    {
     "name": "stdout",
     "output_type": "stream",
     "text": [
      "None\n"
     ]
    },
    {
     "data": {
      "text/plain": [
       "[1, 2, 7, 8, 25, 65]"
      ]
     },
     "execution_count": 8,
     "metadata": {},
     "output_type": "execute_result"
    }
   ],
   "source": [
    "print(lista.sort())\n",
    "lista"
   ]
  },
  {
   "cell_type": "code",
   "execution_count": null,
   "id": "34017f1e-5369-4a42-b9e7-9589d01ca0ed",
   "metadata": {},
   "outputs": [],
   "source": []
  }
 ],
 "metadata": {
  "kernelspec": {
   "display_name": "Python 3 (ipykernel)",
   "language": "python",
   "name": "python3"
  },
  "language_info": {
   "codemirror_mode": {
    "name": "ipython",
    "version": 3
   },
   "file_extension": ".py",
   "mimetype": "text/x-python",
   "name": "python",
   "nbconvert_exporter": "python",
   "pygments_lexer": "ipython3",
   "version": "3.9.12"
  }
 },
 "nbformat": 4,
 "nbformat_minor": 5
}
