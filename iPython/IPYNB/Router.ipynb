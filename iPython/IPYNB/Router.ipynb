{
 "cells": [
  {
   "cell_type": "code",
   "execution_count": 5,
   "id": "3185456b-0741-4a5b-ba55-9422278f9d26",
   "metadata": {},
   "outputs": [
    {
     "data": {
      "text/plain": [
       "{'hostname': '10.1.1.10',\n",
       " 'port': '22',\n",
       " 'username': 'bkoppad',\n",
       " 'password': 'cisco'}"
      ]
     },
     "execution_count": 5,
     "metadata": {},
     "output_type": "execute_result"
    }
   ],
   "source": [
    "router1 = {'hostname': '10.1.1.10',\n",
    "                   'port': '22',\n",
    "                   'username': 'bkoppad',\n",
    "                   'password': 'cisco'}\n",
    "router1"
   ]
  },
  {
   "cell_type": "code",
   "execution_count": 6,
   "id": "4cfa0c06-ae0e-4d0c-a155-b7c30e698a5a",
   "metadata": {},
   "outputs": [
    {
     "data": {
      "text/plain": [
       "{'hostname': '10.1.1.10',\n",
       " 'port': '22',\n",
       " 'username': 'bkoppad',\n",
       " 'password': 'juniper'}"
      ]
     },
     "execution_count": 6,
     "metadata": {},
     "output_type": "execute_result"
    }
   ],
   "source": [
    "router3 = router1\n",
    "router3['password']='juniper'\n",
    "router3"
   ]
  },
  {
   "cell_type": "code",
   "execution_count": 7,
   "id": "d88812f1-2831-47f8-b325-6fe9e672df3c",
   "metadata": {},
   "outputs": [
    {
     "data": {
      "text/plain": [
       "['Basavaraj', '']"
      ]
     },
     "execution_count": 7,
     "metadata": {},
     "output_type": "execute_result"
    }
   ],
   "source": [
    "str1=\"Basavaraj\\r\\n\"\n",
    "str1.split(\"\\r\\n\")"
   ]
  },
  {
   "cell_type": "code",
   "execution_count": null,
   "id": "ab2dc316-f9dd-421f-b22a-1bb2dc098863",
   "metadata": {},
   "outputs": [],
   "source": []
  }
 ],
 "metadata": {
  "kernelspec": {
   "display_name": "Python 3 (ipykernel)",
   "language": "python",
   "name": "python3"
  },
  "language_info": {
   "codemirror_mode": {
    "name": "ipython",
    "version": 3
   },
   "file_extension": ".py",
   "mimetype": "text/x-python",
   "name": "python",
   "nbconvert_exporter": "python",
   "pygments_lexer": "ipython3",
   "version": "3.9.12"
  }
 },
 "nbformat": 4,
 "nbformat_minor": 5
}
