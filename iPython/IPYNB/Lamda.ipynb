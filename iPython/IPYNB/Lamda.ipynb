{
 "cells": [
  {
   "cell_type": "markdown",
   "id": "4e2676cb-d6f8-4f56-b899-47585656a026",
   "metadata": {},
   "source": [
    "Lambda function to add 2 numbers"
   ]
  },
  {
   "cell_type": "code",
   "execution_count": 5,
   "id": "345cd125-626a-4fb7-b511-cda8318321fc",
   "metadata": {},
   "outputs": [],
   "source": [
    "add=lambda x, y : x+y"
   ]
  },
  {
   "cell_type": "code",
   "execution_count": 6,
   "id": "278a6cca-aa56-497f-b299-03bc8fd15b79",
   "metadata": {},
   "outputs": [
    {
     "data": {
      "text/plain": [
       "25"
      ]
     },
     "execution_count": 6,
     "metadata": {},
     "output_type": "execute_result"
    }
   ],
   "source": [
    "add(10,15)"
   ]
  },
  {
   "cell_type": "code",
   "execution_count": null,
   "id": "6756f754-5cb7-4b11-a11f-f9423dbf0efa",
   "metadata": {},
   "outputs": [],
   "source": []
  }
 ],
 "metadata": {
  "kernelspec": {
   "display_name": "Python 3 (ipykernel)",
   "language": "python",
   "name": "python3"
  },
  "language_info": {
   "codemirror_mode": {
    "name": "ipython",
    "version": 3
   },
   "file_extension": ".py",
   "mimetype": "text/x-python",
   "name": "python",
   "nbconvert_exporter": "python",
   "pygments_lexer": "ipython3",
   "version": "3.9.12"
  }
 },
 "nbformat": 4,
 "nbformat_minor": 5
}
