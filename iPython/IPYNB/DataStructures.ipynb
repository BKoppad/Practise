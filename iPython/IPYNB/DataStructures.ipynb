{
 "cells": [
  {
   "cell_type": "markdown",
   "id": "3dbc83d4-3376-4313-afc7-9ef85045efcb",
   "metadata": {},
   "source": [
    "Merg 2 Sorted arrays"
   ]
  },
  {
   "cell_type": "code",
   "execution_count": 82,
   "id": "95352a77-afb1-47c9-9466-c93c721fbbb0",
   "metadata": {},
   "outputs": [],
   "source": [
    "def mergeSortedArr(arr1,arr2):\n",
    "    arr3=[]\n",
    "    if len(arr1) == 0 :\n",
    "        return arr2\n",
    "    if len(arr2)==0:\n",
    "        return arr1\n",
    "    i = 0\n",
    "    j = 0\n",
    "    \n",
    "    while i < len(arr1) and j < len(arr2):\n",
    "        print(i,j)\n",
    "        if arr1[i] < arr2[j]:\n",
    "            arr3.append(arr1[i])\n",
    "            i+=1\n",
    "        else:\n",
    "            arr3.append(arr2[j])\n",
    "            j+=1\n",
    "    \n",
    "    while i < len(arr1):\n",
    "        arr3.append(arr1[i])\n",
    "        i+=1\n",
    "        \n",
    "    while j < len(arr2):\n",
    "        arr3.append(arr2[j])\n",
    "        j+=1\n",
    "    \n",
    "    return arr3\n"
   ]
  },
  {
   "cell_type": "code",
   "execution_count": 83,
   "id": "617b4623-39aa-4d8d-a82b-df5b88fba335",
   "metadata": {},
   "outputs": [
    {
     "name": "stdout",
     "output_type": "stream",
     "text": [
      "0 0\n",
      "1 0\n",
      "2 0\n",
      "2 1\n",
      "3 1\n",
      "3 2\n"
     ]
    },
    {
     "data": {
      "text/plain": [
       "[1, 2, 3, 3, 4, 4, 5, 6]"
      ]
     },
     "execution_count": 83,
     "metadata": {},
     "output_type": "execute_result"
    }
   ],
   "source": [
    "arrA=[1,2,3,4]\n",
    "arrB=[3,4,5,6]\n",
    "mergeSortedArr(arrA,arrB)\n",
    "#arrA.extend(arrB)\n",
    "#arrA"
   ]
  },
  {
   "cell_type": "code",
   "execution_count": null,
   "id": "e7aafa9a-b624-4e5f-a3e0-e054f30fa32f",
   "metadata": {},
   "outputs": [],
   "source": []
  },
  {
   "cell_type": "markdown",
   "id": "584ca800-ff46-424b-8c30-f22b36f03186",
   "metadata": {},
   "source": [
    "Given an array of integers nums and an integer target, return indices of the two numbers such that they add up to target.\n",
    "\n",
    "You may assume that each input would have exactly one solution, and you may not use the same element twice.\n",
    "\n",
    "You can return the answer in any order."
   ]
  },
  {
   "cell_type": "code",
   "execution_count": 98,
   "id": "3985ac2a-3be6-42cd-a4f5-7ca4714810bd",
   "metadata": {},
   "outputs": [],
   "source": [
    "# With Dictionary\n",
    "class Solution:\n",
    "    def twoSum(self, nums, target: int):\n",
    "        uniqnums={}\n",
    "        for n in range(len(nums)):\n",
    "            if target-nums[n] in uniqnums:\n",
    "                i=uniqnums[target-nums[n]]\n",
    "                return [i,n]\n",
    "            else:\n",
    "                uniqnums[nums[n]]=n"
   ]
  },
  {
   "cell_type": "code",
   "execution_count": 97,
   "id": "ae81dcd9-f952-47f5-ab2e-1ade1a908427",
   "metadata": {},
   "outputs": [
    {
     "data": {
      "text/plain": [
       "[0, 3]"
      ]
     },
     "execution_count": 97,
     "metadata": {},
     "output_type": "execute_result"
    }
   ],
   "source": [
    "sol = Solution()\n",
    "numList=[2,7,11,15]\n",
    "target=9\n",
    "sol.twoSum(numList,17)"
   ]
  },
  {
   "cell_type": "markdown",
   "id": "51803193-3bad-4236-bf16-cac61ce50385",
   "metadata": {},
   "source": [
    "Given an integer array nums, find the contiguous subarray (containing at least one number) which has the largest sum and return its sum.\n",
    "\n",
    "A subarray is a contiguous part of an array."
   ]
  },
  {
   "cell_type": "code",
   "execution_count": 110,
   "id": "2d94e9f7-b5d9-499e-ba17-c241b5bfd861",
   "metadata": {},
   "outputs": [],
   "source": [
    "class Solution:\n",
    "    def maxSubArray(self, nums) -> str:\n",
    "        max_sum,current_sum=0,0\n",
    "        for n in nums:\n",
    "            current_sum+=n\n",
    "            if current_sum < 0:\n",
    "                current_sum = 0\n",
    "            if max_sum < current_sum:\n",
    "                max_sum = current_sum\n",
    "                \n",
    "        return max_sum"
   ]
  },
  {
   "cell_type": "code",
   "execution_count": 108,
   "id": "1349fb14-7cc4-4435-b02a-c630ef8033b8",
   "metadata": {},
   "outputs": [],
   "source": [
    "sol = Solution()"
   ]
  },
  {
   "cell_type": "code",
   "execution_count": 111,
   "id": "3c2f445e-f319-4085-b4f7-41cd304a663c",
   "metadata": {},
   "outputs": [
    {
     "data": {
      "text/plain": [
       "6"
      ]
     },
     "execution_count": 111,
     "metadata": {},
     "output_type": "execute_result"
    }
   ],
   "source": [
    "array1=[-2,1,-3,4,-1,2,1,-5,4]\n",
    "sol.maxSubArray(array1)"
   ]
  },
  {
   "cell_type": "markdown",
   "id": "85551e0d-6d46-46cc-b96c-305600a1ce1c",
   "metadata": {},
   "source": [
    "Given an integer array nums, move all 0's to the end of it while maintaining the relative order of the non-zero elements.\n",
    "\n",
    "Note that you must do this in-place without making a copy of the array."
   ]
  },
  {
   "cell_type": "code",
   "execution_count": 116,
   "id": "ddba507e-9fd1-4526-ab3e-0ee4b4a97e15",
   "metadata": {},
   "outputs": [],
   "source": [
    "class Solution:\n",
    "    def moveZeroes(self, nums) -> None:\n",
    "        zero_list,num_list=[],[]\n",
    "        for n in nums:\n",
    "            if n == 0 :\n",
    "                zero_list.append(n)\n",
    "            else:\n",
    "                num_list.append(n)\n",
    "        num_list.extend(zero_list)\n",
    "        for n in range(len(nums)):\n",
    "            nums[n]=num_list[n]\n",
    "            \n",
    "        return nums\n",
    "            \n",
    "    def moveZeroes2(self, nums):  \n",
    "        j=0\n",
    "        i=0\n",
    "        for n in (nums):\n",
    "            if n!=0:\n",
    "                nums[j]=n\n",
    "                j+=1\n",
    "        \n",
    "        while j<len(nums):\n",
    "            nums[j]=0\n",
    "            j+=1\n",
    "        return nums\n",
    "       "
   ]
  },
  {
   "cell_type": "code",
   "execution_count": 117,
   "id": "508cf2b1-dcb4-4037-b7e8-66a751a3b389",
   "metadata": {},
   "outputs": [],
   "source": [
    "sol3= Solution()"
   ]
  },
  {
   "cell_type": "code",
   "execution_count": 118,
   "id": "bfe1cd51-72e9-4ea3-a34d-575196edae0e",
   "metadata": {},
   "outputs": [
    {
     "data": {
      "text/plain": [
       "[1, 3, 12, 0, 0]"
      ]
     },
     "execution_count": 118,
     "metadata": {},
     "output_type": "execute_result"
    }
   ],
   "source": [
    "array3=[0,1,0,3,12]\n",
    "sol3.moveZeroes(array3)\n"
   ]
  },
  {
   "cell_type": "code",
   "execution_count": 119,
   "id": "8e0fc634-50a6-4ad3-92e0-6afcd4a69354",
   "metadata": {},
   "outputs": [
    {
     "data": {
      "text/plain": [
       "[1, 3, 12, 0, 0]"
      ]
     },
     "execution_count": 119,
     "metadata": {},
     "output_type": "execute_result"
    }
   ],
   "source": [
    "sol3.moveZeroes2(array3)"
   ]
  },
  {
   "cell_type": "code",
   "execution_count": null,
   "id": "92e20eb0-8533-476a-baf5-4b2a288c2956",
   "metadata": {},
   "outputs": [],
   "source": []
  }
 ],
 "metadata": {
  "kernelspec": {
   "display_name": "Python 3 (ipykernel)",
   "language": "python",
   "name": "python3"
  },
  "language_info": {
   "codemirror_mode": {
    "name": "ipython",
    "version": 3
   },
   "file_extension": ".py",
   "mimetype": "text/x-python",
   "name": "python",
   "nbconvert_exporter": "python",
   "pygments_lexer": "ipython3",
   "version": "3.9.12"
  }
 },
 "nbformat": 4,
 "nbformat_minor": 5
}
