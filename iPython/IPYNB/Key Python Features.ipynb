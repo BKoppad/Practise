{
 "cells": [
  {
   "cell_type": "markdown",
   "id": "166a5169-06bb-4435-95fb-bff7d48915df",
   "metadata": {},
   "source": [
    "Pickling and Unpickling- Used to transfer or store objects in python"
   ]
  },
  {
   "cell_type": "markdown",
   "id": "6d664d41-cf74-4f68-aa25-47aca0c91f82",
   "metadata": {},
   "source": [
    "-----------"
   ]
  },
  {
   "cell_type": "code",
   "execution_count": 15,
   "id": "a7f52a67-2aaa-47a6-9732-773f5e014c92",
   "metadata": {},
   "outputs": [],
   "source": [
    "import pickle\n",
    "fav_colour= {'lion':'yellow', 'elephant':'black'}"
   ]
  },
  {
   "cell_type": "code",
   "execution_count": 4,
   "id": "d6cfac41-a3e1-4ff8-99a6-5c00f1349b35",
   "metadata": {},
   "outputs": [],
   "source": [
    "pickle.dump(fav_colour, open('save.p','wb'))"
   ]
  },
  {
   "cell_type": "code",
   "execution_count": 6,
   "id": "3de6cbdb-249e-4398-8197-4c6622ccd30e",
   "metadata": {},
   "outputs": [],
   "source": [
    "fetch_fav_col=pickle.load(open('save.p','rb'))"
   ]
  },
  {
   "cell_type": "code",
   "execution_count": 7,
   "id": "07048841-9fed-4009-97f3-e7665dde3a8b",
   "metadata": {},
   "outputs": [
    {
     "name": "stdout",
     "output_type": "stream",
     "text": [
      "{'lion': 'yellow', 'elephant': 'black'}\n"
     ]
    }
   ],
   "source": [
    "print(fetch_fav_col)"
   ]
  },
  {
   "cell_type": "markdown",
   "id": "89436841-21aa-4427-958e-36e0ddbdfdbf",
   "metadata": {},
   "source": [
    "----"
   ]
  },
  {
   "cell_type": "markdown",
   "id": "7a2fc56c-efa8-4eda-bc61-617f23077b50",
   "metadata": {},
   "source": [
    "Iterators"
   ]
  },
  {
   "cell_type": "code",
   "execution_count": null,
   "id": "e24f6eb9-45f3-4704-8764-2f1dbe6863a3",
   "metadata": {},
   "outputs": [],
   "source": []
  },
  {
   "cell_type": "code",
   "execution_count": 10,
   "id": "ee7e7836-e247-4e4e-8ee9-10d15005b129",
   "metadata": {},
   "outputs": [],
   "source": [
    "def get_sequence_upto(x):\n",
    "    for i in range(x):\n",
    "        yield i "
   ]
  },
  {
   "cell_type": "code",
   "execution_count": 11,
   "id": "d0f5e4b3-084c-4b81-a19d-32a336d5eea8",
   "metadata": {},
   "outputs": [],
   "source": [
    "seq=get_sequence_upto(10)"
   ]
  },
  {
   "cell_type": "code",
   "execution_count": 12,
   "id": "1c6f6775-4bbb-45aa-8fbf-d96b065ba5cc",
   "metadata": {},
   "outputs": [
    {
     "data": {
      "text/plain": [
       "0"
      ]
     },
     "execution_count": 12,
     "metadata": {},
     "output_type": "execute_result"
    }
   ],
   "source": [
    "next(seq)"
   ]
  },
  {
   "cell_type": "code",
   "execution_count": 13,
   "id": "13e460fe-8d99-4b8d-9388-d4cd109aab14",
   "metadata": {},
   "outputs": [
    {
     "data": {
      "text/plain": [
       "1"
      ]
     },
     "execution_count": 13,
     "metadata": {},
     "output_type": "execute_result"
    }
   ],
   "source": [
    "next(seq)"
   ]
  },
  {
   "cell_type": "code",
   "execution_count": 14,
   "id": "9c683304-dec2-4810-a4a8-0dd26ceb8f44",
   "metadata": {},
   "outputs": [
    {
     "data": {
      "text/plain": [
       "4"
      ]
     },
     "execution_count": 14,
     "metadata": {},
     "output_type": "execute_result"
    }
   ],
   "source": [
    "next(seq)\n",
    "next(seq)\n",
    "next(seq)"
   ]
  },
  {
   "cell_type": "code",
   "execution_count": null,
   "id": "271f285d-9ddd-42c9-a825-06f315dddb78",
   "metadata": {},
   "outputs": [],
   "source": []
  }
 ],
 "metadata": {
  "kernelspec": {
   "display_name": "Python 3 (ipykernel)",
   "language": "python",
   "name": "python3"
  },
  "language_info": {
   "codemirror_mode": {
    "name": "ipython",
    "version": 3
   },
   "file_extension": ".py",
   "mimetype": "text/x-python",
   "name": "python",
   "nbconvert_exporter": "python",
   "pygments_lexer": "ipython3",
   "version": "3.9.12"
  }
 },
 "nbformat": 4,
 "nbformat_minor": 5
}
