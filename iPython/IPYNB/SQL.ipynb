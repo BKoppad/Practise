{
 "cells": [
  {
   "cell_type": "code",
   "execution_count": 27,
   "id": "c9f57259-36f8-4142-a251-24038d7dffde",
   "metadata": {},
   "outputs": [
    {
     "name": "stdout",
     "output_type": "stream",
     "text": [
      "[('Drinks', 0, 20.5)]\n"
     ]
    }
   ],
   "source": [
    "import sqlite3\n",
    "def create_table():\n",
    "    conn=sqlite3.connect(\"litle.db\")\n",
    "    cur=conn.cursor()\n",
    "    cur.execute(\"CREATE TABLE IF NOT EXISTS store (item TEXT, quantity INTEGER, price REAL)\")\n",
    "    conn.commit()\n",
    "    conn.close()\n",
    "\n",
    "def insert_table(item,quantity,price):\n",
    "    conn=sqlite3.connect(\"litle.db\")\n",
    "    cur=conn.cursor()\n",
    "    cur.execute(\"INSERT INTO store VALUES (?,?,?)\",(item,quantity,price))\n",
    "    conn.commit()\n",
    "    conn.close()   \n",
    "\n",
    "def view():\n",
    "    conn=sqlite3.connect(\"litle.db\")\n",
    "    cur=conn.cursor()    \n",
    "    cur.execute(\"SELECT * FROM store\")\n",
    "    rows=cur.fetchall()\n",
    "    conn.close()\n",
    "    return rows\n",
    "\n",
    "def delet(item):\n",
    "    conn=sqlite3.connect(\"litle.db\")\n",
    "    cur=conn.cursor()    \n",
    "    cur.execute(\"DELETE FROM store WHERE item=?\",(item,))\n",
    "    conn.commit()\n",
    "    conn.close\n",
    "    \n",
    "def update(quantity,price,item):\n",
    "    conn=sqlite3.connect(\"litle.db\")\n",
    "    cur=conn.cursor()    \n",
    "    cur.execute(\"UPDATE store SET quantity=?,price=? WHERE item=?\",(quantity,price,item))\n",
    "    conn.commit()\n",
    "    conn.close    \n",
    "    \n",
    "    \n",
    "#create_table()\n",
    "#insert_table('Drinks',8,12.5)\n",
    "#print(view())\n",
    "#delet('Drinks')\n",
    "#print(view())\n",
    "update(0,20.5,'Drinks')\n",
    "print(view())"
   ]
  },
  {
   "cell_type": "code",
   "execution_count": null,
   "id": "693cfb5b-6e94-44e8-93b1-4078515ece0a",
   "metadata": {},
   "outputs": [],
   "source": []
  },
  {
   "cell_type": "code",
   "execution_count": null,
   "id": "d37e11e7-1821-41b2-ae61-0479f7a16a93",
   "metadata": {},
   "outputs": [],
   "source": []
  }
 ],
 "metadata": {
  "kernelspec": {
   "display_name": "Python 3 (ipykernel)",
   "language": "python",
   "name": "python3"
  },
  "language_info": {
   "codemirror_mode": {
    "name": "ipython",
    "version": 3
   },
   "file_extension": ".py",
   "mimetype": "text/x-python",
   "name": "python",
   "nbconvert_exporter": "python",
   "pygments_lexer": "ipython3",
   "version": "3.9.12"
  }
 },
 "nbformat": 4,
 "nbformat_minor": 5
}
