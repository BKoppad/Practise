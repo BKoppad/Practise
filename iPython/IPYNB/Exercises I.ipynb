{
 "cells": [
  {
   "cell_type": "markdown",
   "id": "705a2299-654f-4598-85be-000469101661",
   "metadata": {},
   "source": [
    "find all such numbers between 1000 and 3000 (both included) such that each digit of the number is an even number.\n"
   ]
  },
  {
   "cell_type": "code",
   "execution_count": 14,
   "id": "dc9675b3-5ba9-4452-96f9-81ecec93df31",
   "metadata": {},
   "outputs": [
    {
     "name": "stdout",
     "output_type": "stream",
     "text": [
      "[2000, 2002, 2004, 2006, 2008, 2020, 2022, 2024, 2026, 2028, 2040, 2042, 2044, 2046, 2048, 2060, 2062, 2064, 2066, 2068, 2080, 2082, 2084, 2086, 2088, 2200, 2202, 2204, 2206, 2208, 2220, 2222, 2224, 2226, 2228, 2240, 2242, 2244, 2246, 2248, 2260, 2262, 2264, 2266, 2268, 2280, 2282, 2284, 2286, 2288, 2400, 2402, 2404, 2406, 2408, 2420, 2422, 2424, 2426, 2428, 2440, 2442, 2444, 2446, 2448, 2460, 2462, 2464, 2466, 2468, 2480, 2482, 2484, 2486, 2488, 2600, 2602, 2604, 2606, 2608, 2620, 2622, 2624, 2626, 2628, 2640, 2642, 2644, 2646, 2648, 2660, 2662, 2664, 2666, 2668, 2680, 2682, 2684, 2686, 2688, 2800, 2802, 2804, 2806, 2808, 2820, 2822, 2824, 2826, 2828, 2840, 2842, 2844, 2846, 2848, 2860, 2862, 2864, 2866, 2868, 2880, 2882, 2884, 2886, 2888]\n"
     ]
    }
   ],
   "source": [
    "values =[]\n",
    "for i in range(1000,3001):\n",
    "    inS=str(i)\n",
    "    if int(inS[0])%2 == 0 and int(inS[1])%2 == 0 and int(inS[2])%2 == 0 and int(inS[3])%2 == 0:\n",
    "        values.append(i)\n",
    "    #[True for s in inS if int(s)%2 == 0]\n",
    "    \n",
    "    #if True :\n",
    "        #values.append(i)\n",
    "\n",
    "print(values)"
   ]
  },
  {
   "cell_type": "code",
   "execution_count": 15,
   "id": "c616f6b7-a82f-41a1-ac9c-b2e0bfae6cae",
   "metadata": {},
   "outputs": [
    {
     "ename": "TypeError",
     "evalue": "argument of type 'int' is not iterable",
     "output_type": "error",
     "traceback": [
      "\u001b[0;31m---------------------------------------------------------------------------\u001b[0m",
      "\u001b[0;31mTypeError\u001b[0m                                 Traceback (most recent call last)",
      "Input \u001b[0;32mIn [15]\u001b[0m, in \u001b[0;36m<cell line: 3>\u001b[0;34m()\u001b[0m\n\u001b[1;32m      3\u001b[0m \u001b[38;5;28;01mfor\u001b[39;00m i \u001b[38;5;129;01min\u001b[39;00m \u001b[38;5;28mrange\u001b[39m (\u001b[38;5;241m1000\u001b[39m,\u001b[38;5;241m3000\u001b[39m):\n\u001b[1;32m      4\u001b[0m     \u001b[38;5;28;01mfor\u001b[39;00m oN \u001b[38;5;129;01min\u001b[39;00m oddNums:\n\u001b[0;32m----> 5\u001b[0m         \u001b[38;5;28;01mif\u001b[39;00m \u001b[43moN\u001b[49m\u001b[43m \u001b[49m\u001b[38;5;129;43;01min\u001b[39;49;00m\u001b[43m \u001b[49m\u001b[43mi\u001b[49m:\n\u001b[1;32m      6\u001b[0m             \u001b[38;5;28;01mbreak\u001b[39;00m\n",
      "\u001b[0;31mTypeError\u001b[0m: argument of type 'int' is not iterable"
     ]
    }
   ],
   "source": [
    "oddNums=[1,3,5,7,9]\n",
    "\n",
    "for i in range (1000,3000):\n",
    "    for oN in oddNums:\n",
    "        if oN in i:\n",
    "            break"
   ]
  },
  {
   "cell_type": "markdown",
   "id": "a536e5b5-b09c-495d-8d94-6cafc9627c6a",
   "metadata": {},
   "source": [
    "----------------------"
   ]
  },
  {
   "cell_type": "markdown",
   "id": "07efc343-0799-4268-bdac-665d636ff2b8",
   "metadata": {},
   "source": [
    "No of didgits and letters in string\n"
   ]
  },
  {
   "cell_type": "code",
   "execution_count": 23,
   "id": "31c74e35-1bc6-41d1-a821-0335cfd81ae2",
   "metadata": {},
   "outputs": [
    {
     "name": "stdin",
     "output_type": "stream",
     "text": [
      "  My Id is 385404\n"
     ]
    },
    {
     "name": "stdout",
     "output_type": "stream",
     "text": [
      "{'Digits': 6, 'Letters': 6}\n"
     ]
    }
   ],
   "source": [
    "import sys\n",
    "str1=input()\n",
    "d={'Digits':0,'Letters':0}\n",
    "for s in str1:\n",
    "    if s.isdigit():\n",
    "        d['Digits']+=1\n",
    "    elif s.isalpha():\n",
    "        d['Letters']+=1\n",
    "        \n",
    "print(d)"
   ]
  },
  {
   "cell_type": "code",
   "execution_count": 24,
   "id": "3f674667-abaa-4631-941a-0b25a02d44b9",
   "metadata": {},
   "outputs": [
    {
     "data": {
      "text/plain": [
       "'spacious'"
      ]
     },
     "execution_count": 24,
     "metadata": {},
     "output_type": "execute_result"
    }
   ],
   "source": [
    " '   spacious   '.strip()"
   ]
  },
  {
   "cell_type": "code",
   "execution_count": 25,
   "id": "a172384d-3a93-406e-856f-7f352b56beeb",
   "metadata": {},
   "outputs": [
    {
     "data": {
      "text/plain": [
       "'example'"
      ]
     },
     "execution_count": 25,
     "metadata": {},
     "output_type": "execute_result"
    }
   ],
   "source": [
    " 'www.example.com'.strip('cmowz.')"
   ]
  },
  {
   "cell_type": "code",
   "execution_count": null,
   "id": "7a6c7988-ff16-4019-82c2-d38da37c360d",
   "metadata": {},
   "outputs": [],
   "source": []
  }
 ],
 "metadata": {
  "kernelspec": {
   "display_name": "Python 3 (ipykernel)",
   "language": "python",
   "name": "python3"
  },
  "language_info": {
   "codemirror_mode": {
    "name": "ipython",
    "version": 3
   },
   "file_extension": ".py",
   "mimetype": "text/x-python",
   "name": "python",
   "nbconvert_exporter": "python",
   "pygments_lexer": "ipython3",
   "version": "3.9.12"
  }
 },
 "nbformat": 4,
 "nbformat_minor": 5
}
