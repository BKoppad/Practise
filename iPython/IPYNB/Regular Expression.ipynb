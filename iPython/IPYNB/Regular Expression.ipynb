{
 "cells": [
  {
   "cell_type": "code",
   "execution_count": 30,
   "id": "584ddf95-d93c-412c-9498-feb7fae4cf7e",
   "metadata": {},
   "outputs": [
    {
     "name": "stdout",
     "output_type": "stream",
     "text": [
      "found word:cat!!23\n"
     ]
    }
   ],
   "source": [
    "import re\n",
    "\n",
    "str = 'an example word:cat!!23'\n",
    "match = re.search(r'word:\\w\\w\\w.+', str)\n",
    "# If-statement after search() tests if it succeeded\n",
    "if match:\n",
    "  print('found', match.group()) ## 'found word:cat'\n",
    "else:\n",
    "  print('did not find')"
   ]
  },
  {
   "cell_type": "code",
   "execution_count": 27,
   "id": "b361ed18-d4b8-4453-afba-60fec5e21ba8",
   "metadata": {},
   "outputs": [],
   "source": [
    "match2=re.search(r'word.+',str)"
   ]
  },
  {
   "cell_type": "code",
   "execution_count": 26,
   "id": "c50d8000-fd53-4df7-aea7-919cacc32eed",
   "metadata": {},
   "outputs": [
    {
     "name": "stdout",
     "output_type": "stream",
     "text": [
      ":cat!!23\n"
     ]
    }
   ],
   "source": [
    "print(match2.group(1))"
   ]
  },
  {
   "cell_type": "markdown",
   "id": "001bd1b0-96fd-4085-a9a0-85667a058cda",
   "metadata": {},
   "source": [
    "findall\n",
    "\n",
    "findall() is probably the single most powerful function in the re module. Above we used re.search() to find the first match for a pattern. findall() finds *all* the matches and returns them as a list of strings, with each string representing one match."
   ]
  },
  {
   "cell_type": "code",
   "execution_count": 31,
   "id": "4721f224-e623-45e5-a93a-4a09f6ae7b6d",
   "metadata": {},
   "outputs": [
    {
     "name": "stdout",
     "output_type": "stream",
     "text": [
      "alice@google.com\n",
      "bob@abc.com\n"
     ]
    }
   ],
   "source": [
    "  ## Suppose we have a text with many email addresses\n",
    "  str = 'purple alice@google.com, blah monkey bob@abc.com blah dishwasher'\n",
    "  strIp = 'google 10.12.13.14, yahoo 10.22.13.45, twitter 15.14.13.12'\n",
    "\n",
    "  ## Here re.findall() returns a list of all the found email strings\n",
    "  emails = re.findall(r'[\\w\\.-]+@[\\w\\.-]+', str) ## ['alice@google.com', 'bob@abc.com']\n",
    "  for email in emails:\n",
    "    # do something with each found email string\n",
    "    print(email)"
   ]
  },
  {
   "cell_type": "code",
   "execution_count": 52,
   "id": "dde59326-ccdb-494e-b50c-932c3a2a29d0",
   "metadata": {},
   "outputs": [],
   "source": [
    "ips = re.findall(r'((\\d{2,3}.){3}\\d{2,3})', strIp)"
   ]
  },
  {
   "cell_type": "code",
   "execution_count": 57,
   "id": "695f1ea2-844f-4bd5-b5f8-c24b09f70911",
   "metadata": {},
   "outputs": [
    {
     "name": "stdout",
     "output_type": "stream",
     "text": [
      "[('10.12.13.14', '13.'), ('10.22.13.45', '13.'), ('15.14.13.12', '13.')]\n"
     ]
    }
   ],
   "source": [
    "print(ips)"
   ]
  },
  {
   "cell_type": "code",
   "execution_count": null,
   "id": "e0a33eea-560a-4cdf-a4c1-8fe5e6ea5730",
   "metadata": {},
   "outputs": [],
   "source": []
  },
  {
   "cell_type": "code",
   "execution_count": 74,
   "id": "d16c7a0a-2aa2-4329-8de9-862ba6942561",
   "metadata": {},
   "outputs": [
    {
     "name": "stdout",
     "output_type": "stream",
     "text": [
      "['', 'T', 'h', 'e', ' ', 'r', 'a', 'i', 'n', ' ', 'i', 'n', ' ', 'S', 'p', 'a', 'i', 'n', '']\n"
     ]
    }
   ],
   "source": [
    "txt = \"The rain in Spain\"\n",
    "x = re.split(\"\", txt)\n",
    "print(x)"
   ]
  },
  {
   "cell_type": "code",
   "execution_count": 73,
   "id": "a5fc7bdd-29fa-4a64-98ed-e1211e8191be",
   "metadata": {},
   "outputs": [
    {
     "data": {
      "text/plain": [
       "['T',\n",
       " 'h',\n",
       " 'e',\n",
       " ' ',\n",
       " 'r',\n",
       " 'a',\n",
       " 'i',\n",
       " 'n',\n",
       " ' ',\n",
       " 'i',\n",
       " 'n',\n",
       " ' ',\n",
       " 'S',\n",
       " 'p',\n",
       " 'a',\n",
       " 'i',\n",
       " 'n']"
      ]
     },
     "execution_count": 73,
     "metadata": {},
     "output_type": "execute_result"
    }
   ],
   "source": [
    "list(txt)"
   ]
  },
  {
   "cell_type": "code",
   "execution_count": 78,
   "id": "f9a720af-a847-422e-aff7-caa813896e9b",
   "metadata": {},
   "outputs": [
    {
     "name": "stdout",
     "output_type": "stream",
     "text": [
      "The9rain in Spain\n"
     ]
    }
   ],
   "source": [
    "import re\n",
    "\n",
    "txt = \"The rain in Spain\"\n",
    "x = re.sub(\"\\s\", \"9\", txt , 1)\n",
    "print(x)"
   ]
  },
  {
   "cell_type": "code",
   "execution_count": 83,
   "id": "1f32b01c-a54f-44cb-b056-de61e0c2e25e",
   "metadata": {},
   "outputs": [
    {
     "name": "stdout",
     "output_type": "stream",
     "text": [
      "re.compile('\\\\d{3}')\n"
     ]
    }
   ],
   "source": [
    "# Target String one\n",
    "str1 = \"Emma's luck numbers are 251 761 231 451\"\n",
    "\n",
    "# pattern to find three consecutive digits\n",
    "string_pattern = r\"\\d{3}\"\n",
    "# compile string pattern to re.Pattern object\n",
    "pattern = re.compile(string_pattern)\n",
    "print(regex_pattern)"
   ]
  },
  {
   "cell_type": "code",
   "execution_count": 86,
   "id": "ee097744-8d17-49b5-83cb-63c3f09c2d70",
   "metadata": {},
   "outputs": [
    {
     "name": "stdout",
     "output_type": "stream",
     "text": [
      "['251', '761', '231', '451']\n"
     ]
    }
   ],
   "source": [
    "res = pattern.findall(str1)\n",
    "print(res)"
   ]
  },
  {
   "cell_type": "markdown",
   "id": "8770371e-e929-488c-9a2e-276727e0f273",
   "metadata": {},
   "source": [
    "------------------\n",
    "re.match vs re.search\n"
   ]
  },
  {
   "cell_type": "code",
   "execution_count": 7,
   "id": "7fd06d5c-b712-4b28-a6d6-26f4f98a83bb",
   "metadata": {},
   "outputs": [
    {
     "name": "stdout",
     "output_type": "stream",
     "text": [
      "1- <re.Match object; span=(75, 81), match='string'>\n",
      "2- None\n"
     ]
    }
   ],
   "source": [
    "# import re module\n",
    "import re\n",
    " \n",
    "Substring ='string'\n",
    " \n",
    " \n",
    "String1 ='''We are learning regex with geeksforgeeks\n",
    "         regex is very useful for string matching.\n",
    "          It is fast too.'''\n",
    "String2 ='''string We are learning regex with geeksforgeeks\n",
    "         regex is very useful for string matching.\n",
    "          It is fast too.'''\n",
    " \n",
    "# Use of re.search() Method\n",
    "\n",
    "print('1-',re.search(Substring, String1, re.IGNORECASE))\n",
    "\n",
    "# Use of re.match() Method\n",
    "\n",
    "print('2-',re.match(Substring, String1, re.IGNORECASE))\n",
    " \n"
   ]
  },
  {
   "cell_type": "code",
   "execution_count": 6,
   "id": "7ff4e405-c5c7-4338-9763-8f0b155d5e1f",
   "metadata": {},
   "outputs": [
    {
     "name": "stdout",
     "output_type": "stream",
     "text": [
      "3- <re.Match object; span=(0, 6), match='string'>\n",
      "4- <re.Match object; span=(0, 6), match='string'>\n"
     ]
    }
   ],
   "source": [
    "# Use of re.search() Method\n",
    "print('3-',re.search(Substring, String2, re.IGNORECASE))\n",
    "# Use of re.match() Method\n",
    "print('4-',re.match(Substring, String2, re.IGNORECASE))"
   ]
  },
  {
   "cell_type": "code",
   "execution_count": null,
   "id": "d5d8d203-8edf-4cf2-bb2e-038bdb326d65",
   "metadata": {},
   "outputs": [],
   "source": []
  }
 ],
 "metadata": {
  "kernelspec": {
   "display_name": "Python 3 (ipykernel)",
   "language": "python",
   "name": "python3"
  },
  "language_info": {
   "codemirror_mode": {
    "name": "ipython",
    "version": 3
   },
   "file_extension": ".py",
   "mimetype": "text/x-python",
   "name": "python",
   "nbconvert_exporter": "python",
   "pygments_lexer": "ipython3",
   "version": "3.9.12"
  }
 },
 "nbformat": 4,
 "nbformat_minor": 5
}
