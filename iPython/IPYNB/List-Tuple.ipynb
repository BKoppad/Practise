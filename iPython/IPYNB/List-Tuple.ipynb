{
 "cells": [
  {
   "cell_type": "markdown",
   "id": "831098b9-bb87-4467-8bc9-0a8818e2617e",
   "metadata": {},
   "source": [
    "Shauffling list values"
   ]
  },
  {
   "cell_type": "code",
   "execution_count": 2,
   "id": "876d39b6-92fa-443c-b335-f52ebb0f96eb",
   "metadata": {},
   "outputs": [
    {
     "data": {
      "text/plain": [
       "['Mary', 'had', 'a', 'lamb']"
      ]
     },
     "execution_count": 2,
     "metadata": {},
     "output_type": "execute_result"
    }
   ],
   "source": [
    "a=[\"Mary\", \"had\", \"a\" , \"lamb\"]\n",
    "a"
   ]
  },
  {
   "cell_type": "code",
   "execution_count": 11,
   "id": "9e783405-2332-48ab-9821-211ebbd92d48",
   "metadata": {},
   "outputs": [
    {
     "data": {
      "text/plain": [
       "{'Mary', 'a', 'had', 'lamb'}"
      ]
     },
     "execution_count": 11,
     "metadata": {},
     "output_type": "execute_result"
    }
   ],
   "source": [
    "set(a)"
   ]
  },
  {
   "cell_type": "code",
   "execution_count": 12,
   "id": "27a7b2e7-e059-440b-be8a-181212f3a46c",
   "metadata": {},
   "outputs": [],
   "source": [
    "from random import shuffle"
   ]
  },
  {
   "cell_type": "code",
   "execution_count": 22,
   "id": "10e6cf4a-9592-4e9a-bea2-6108fe22e54b",
   "metadata": {},
   "outputs": [
    {
     "data": {
      "text/plain": [
       "['Mary', 'had', 'a', 'lamb']"
      ]
     },
     "execution_count": 22,
     "metadata": {},
     "output_type": "execute_result"
    }
   ],
   "source": [
    "shuffle(a)\n",
    "a"
   ]
  },
  {
   "cell_type": "code",
   "execution_count": null,
   "id": "6b0e26f0-9c88-4c05-8660-db8721b40c17",
   "metadata": {},
   "outputs": [],
   "source": []
  },
  {
   "cell_type": "markdown",
   "id": "1905040a-d242-47be-b24d-bffc6d8ceb28",
   "metadata": {},
   "source": [
    "Tuples"
   ]
  },
  {
   "cell_type": "code",
   "execution_count": 25,
   "id": "f0b7d9ac-c894-4adf-8688-c9b4dd8a8c77",
   "metadata": {},
   "outputs": [],
   "source": [
    "lang_listtuple= [('C#',1), ('Go',7), ('Basic',8), ('Python',60)]"
   ]
  },
  {
   "cell_type": "code",
   "execution_count": 27,
   "id": "79182f15-e0f4-4ab7-8111-a49d101b33c9",
   "metadata": {},
   "outputs": [
    {
     "data": {
      "text/plain": [
       "[('Basic', 8), ('C#', 1), ('Go', 7), ('Python', 60)]"
      ]
     },
     "execution_count": 27,
     "metadata": {},
     "output_type": "execute_result"
    }
   ],
   "source": [
    "lang_listtuple.sort()\n",
    "lang_listtuple"
   ]
  },
  {
   "cell_type": "code",
   "execution_count": 37,
   "id": "b3303523-ab58-402e-ac30-d8566e6fd413",
   "metadata": {},
   "outputs": [],
   "source": [
    "listelements = ['C#', 1, 'Go', 'Rust', 'Java', 'Go']"
   ]
  },
  {
   "cell_type": "code",
   "execution_count": 38,
   "id": "74725e18-a622-4155-8ad2-78f93c417b5b",
   "metadata": {},
   "outputs": [],
   "source": [
    "tuple1 = tuple(listelements)"
   ]
  },
  {
   "cell_type": "code",
   "execution_count": 39,
   "id": "d2f9c014-2e11-4224-b8de-e9c1aec3cf3d",
   "metadata": {},
   "outputs": [
    {
     "data": {
      "text/plain": [
       "('C#', 1, 'Go', 'Rust', 'Java', 'Go')"
      ]
     },
     "execution_count": 39,
     "metadata": {},
     "output_type": "execute_result"
    }
   ],
   "source": [
    "tuple1"
   ]
  },
  {
   "cell_type": "code",
   "execution_count": 36,
   "id": "e39acab5-5d86-4ec7-88bf-a1eb724359df",
   "metadata": {},
   "outputs": [
    {
     "ename": "TypeError",
     "evalue": "'tuple' object does not support item assignment",
     "output_type": "error",
     "traceback": [
      "\u001b[0;31m---------------------------------------------------------------------------\u001b[0m",
      "\u001b[0;31mTypeError\u001b[0m                                 Traceback (most recent call last)",
      "Input \u001b[0;32mIn [36]\u001b[0m, in \u001b[0;36m<cell line: 1>\u001b[0;34m()\u001b[0m\n\u001b[0;32m----> 1\u001b[0m tuple1[\u001b[38;5;241m0\u001b[39m]\u001b[38;5;241m=\u001b[39m\u001b[38;5;124m'\u001b[39m\u001b[38;5;124mC++\u001b[39m\u001b[38;5;124m'\u001b[39m\n",
      "\u001b[0;31mTypeError\u001b[0m: 'tuple' object does not support item assignment"
     ]
    }
   ],
   "source": [
    "tuple1[0]='C++'"
   ]
  },
  {
   "cell_type": "code",
   "execution_count": 40,
   "id": "1cbb05b1-d523-4cfc-a211-845c1ae0b2fc",
   "metadata": {},
   "outputs": [],
   "source": [
    "y = [1,2,3,5,6]"
   ]
  },
  {
   "cell_type": "code",
   "execution_count": 47,
   "id": "d9f330c5-2e7b-4620-a638-b9848b32b9e2",
   "metadata": {},
   "outputs": [
    {
     "name": "stdout",
     "output_type": "stream",
     "text": [
      "[(1, 1, 1, 1), (2, 2, 2, 2), (3, 3, 3, 3), (5, 5, 5, 5), (6, 6, 6, 6)]\n"
     ]
    }
   ],
   "source": [
    "print(list(zip(y,y,y,y)))"
   ]
  },
  {
   "cell_type": "code",
   "execution_count": 53,
   "id": "a3c4f3f9-6500-4e43-947d-016b09a1181b",
   "metadata": {},
   "outputs": [
    {
     "name": "stdout",
     "output_type": "stream",
     "text": [
      "10\n",
      "11\n",
      "11\n"
     ]
    }
   ],
   "source": [
    "x=10\n",
    "print(x)\n",
    "def xfun():\n",
    "    global x\n",
    "    x=11\n",
    "    print(x)\n",
    "xfun()    \n",
    "print(x)"
   ]
  },
  {
   "cell_type": "code",
   "execution_count": 59,
   "id": "12366e9b-d93e-477e-8e82-980373ef1032",
   "metadata": {},
   "outputs": [],
   "source": [
    "sum=lambda a,b,c : a+b+c\n"
   ]
  },
  {
   "cell_type": "code",
   "execution_count": 60,
   "id": "6520217f-9b07-4bca-86f7-615a67df0c5a",
   "metadata": {},
   "outputs": [
    {
     "data": {
      "text/plain": [
       "6"
      ]
     },
     "execution_count": 60,
     "metadata": {},
     "output_type": "execute_result"
    }
   ],
   "source": [
    "sum(1,2,3)"
   ]
  },
  {
   "cell_type": "code",
   "execution_count": null,
   "id": "b26dd52f-fe31-42d2-a6c1-d5de37fc6865",
   "metadata": {},
   "outputs": [],
   "source": []
  }
 ],
 "metadata": {
  "kernelspec": {
   "display_name": "Python 3 (ipykernel)",
   "language": "python",
   "name": "python3"
  },
  "language_info": {
   "codemirror_mode": {
    "name": "ipython",
    "version": 3
   },
   "file_extension": ".py",
   "mimetype": "text/x-python",
   "name": "python",
   "nbconvert_exporter": "python",
   "pygments_lexer": "ipython3",
   "version": "3.9.12"
  }
 },
 "nbformat": 4,
 "nbformat_minor": 5
}
