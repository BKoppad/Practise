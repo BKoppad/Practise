{
 "cells": [
  {
   "cell_type": "code",
   "execution_count": 1,
   "id": "50985a4c-0fa5-4e99-9fbe-af4d30f67814",
   "metadata": {},
   "outputs": [
    {
     "name": "stdout",
     "output_type": "stream",
     "text": [
      "Hi Pyhon, How to get you ?\n",
      "\n",
      "Python’s re.compile() method is used to compile a regular expression pattern provided as a string into a regex pattern object (re.Pattern). \n",
      "Later we can use this pattern object to search for a match inside different target strings using regex methods such as a re.match() or re.search().\n",
      "\n",
      "In simple terms, We can compile a regular expression into a regex object to look for occurrences of the same pattern inside various target strings without rewriting it.\n",
      "\n"
     ]
    }
   ],
   "source": [
    "fp=open('sample.txt', 'r')\n",
    "print(fp.read())"
   ]
  },
  {
   "cell_type": "code",
   "execution_count": 2,
   "id": "a71af483-dbb7-4d90-9102-ea5585b04703",
   "metadata": {},
   "outputs": [],
   "source": [
    "fp1=open(\"/Users/ba385404/pyCode/Jupyter/sample.txt\", 'r')"
   ]
  },
  {
   "cell_type": "code",
   "execution_count": 3,
   "id": "cd13938c-1393-4384-8432-3c3cdb185467",
   "metadata": {},
   "outputs": [
    {
     "name": "stdout",
     "output_type": "stream",
     "text": [
      "Hi Pyhon, How to get you ?\n",
      "\n",
      "Python’s re.compile() method is used to compile a regular expression pattern provided as a string into a regex pattern object (re.Pattern). \n",
      "Later we can use this pattern object to search for a match inside different target strings using regex methods such as a re.match() or re.search().\n",
      "\n",
      "In simple terms, We can compile a regular expression into a regex object to look for occurrences of the same pattern inside various target strings without rewriting it.\n",
      "\n"
     ]
    }
   ],
   "source": [
    "print(fp1.read())"
   ]
  },
  {
   "cell_type": "markdown",
   "id": "5a1a5834-7cbf-4c2d-8575-880f6e9827c2",
   "metadata": {},
   "source": [
    "---------------------------\n",
    "Print it in Revers order"
   ]
  },
  {
   "cell_type": "code",
   "execution_count": 4,
   "id": "600e1e32-36e9-4b04-984a-011e27195df9",
   "metadata": {},
   "outputs": [
    {
     "name": "stdout",
     "output_type": "stream",
     "text": [
      "In simple terms, We can compile a regular expression into a regex object to look for occurrences of the same pattern inside various target strings without rewriting it.\n",
      "\n",
      "\n",
      "\n",
      "Later we can use this pattern object to search for a match inside different target strings using regex methods such as a re.match() or re.search().\n",
      "\n",
      "Python’s re.compile() method is used to compile a regular expression pattern provided as a string into a regex pattern object (re.Pattern). \n",
      "\n",
      "\n",
      "\n",
      "Hi Pyhon, How to get you ?\n",
      "\n"
     ]
    }
   ],
   "source": [
    "for i in reversed(list(open(\"sample.txt\", 'r'))):\n",
    "    print(i)"
   ]
  }
 ],
 "metadata": {
  "kernelspec": {
   "display_name": "Python 3 (ipykernel)",
   "language": "python",
   "name": "python3"
  },
  "language_info": {
   "codemirror_mode": {
    "name": "ipython",
    "version": 3
   },
   "file_extension": ".py",
   "mimetype": "text/x-python",
   "name": "python",
   "nbconvert_exporter": "python",
   "pygments_lexer": "ipython3",
   "version": "3.9.12"
  }
 },
 "nbformat": 4,
 "nbformat_minor": 5
}
