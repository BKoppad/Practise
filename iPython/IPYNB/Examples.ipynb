{
 "cells": [
  {
   "cell_type": "code",
   "execution_count": 1,
   "id": "09ee625c-bcd5-4399-a40b-7fcc2e576709",
   "metadata": {},
   "outputs": [],
   "source": [
    "def f(x,l=[]):\n",
    "    for i in range(x):\n",
    "        l.append(i*i)\n",
    "    print(l)"
   ]
  },
  {
   "cell_type": "code",
   "execution_count": 2,
   "id": "7a33a3c2-7c02-41ab-8dc5-aa0d868f9293",
   "metadata": {},
   "outputs": [
    {
     "name": "stdout",
     "output_type": "stream",
     "text": [
      "[0, 1]\n"
     ]
    }
   ],
   "source": [
    "f(2)"
   ]
  },
  {
   "cell_type": "code",
   "execution_count": 3,
   "id": "ce79f803-8f05-4b6b-9cf3-6e96d98950a6",
   "metadata": {},
   "outputs": [
    {
     "name": "stdout",
     "output_type": "stream",
     "text": [
      "[0, 1, 0, 1, 4]\n"
     ]
    }
   ],
   "source": [
    "f(3)"
   ]
  },
  {
   "cell_type": "code",
   "execution_count": 4,
   "id": "76bac802-4720-4e60-b7a7-b2168b9f1df5",
   "metadata": {},
   "outputs": [
    {
     "name": "stdout",
     "output_type": "stream",
     "text": [
      "[0, 1, 0, 1, 4, 0, 1, 4, 9]\n"
     ]
    }
   ],
   "source": [
    "f(4)"
   ]
  },
  {
   "cell_type": "code",
   "execution_count": 5,
   "id": "742d787d-1d9c-424d-a37b-af59269ecd62",
   "metadata": {},
   "outputs": [
    {
     "name": "stdout",
     "output_type": "stream",
     "text": [
      "[0, 1, 4, 9]\n"
     ]
    }
   ],
   "source": [
    "f(4,[])"
   ]
  },
  {
   "cell_type": "code",
   "execution_count": 6,
   "id": "4179ada8-314c-48c0-914b-3a914c9ecebe",
   "metadata": {},
   "outputs": [
    {
     "name": "stdout",
     "output_type": "stream",
     "text": [
      "[1, 2, 0, 1, 4, 9]\n"
     ]
    }
   ],
   "source": [
    "f(4,[1,2])"
   ]
  },
  {
   "cell_type": "code",
   "execution_count": 7,
   "id": "b1e09500-2823-44fc-bf64-4c730793252c",
   "metadata": {},
   "outputs": [],
   "source": [
    "str1=\"Basavaraj\""
   ]
  },
  {
   "cell_type": "code",
   "execution_count": 9,
   "id": "4a65d3a5-824c-4b5a-8962-32ac248b8a36",
   "metadata": {},
   "outputs": [
    {
     "data": {
      "text/plain": [
       "'basavaraj'"
      ]
     },
     "execution_count": 9,
     "metadata": {},
     "output_type": "execute_result"
    }
   ],
   "source": [
    "str1.lower()"
   ]
  },
  {
   "cell_type": "code",
   "execution_count": 10,
   "id": "e59e4c04-c1fc-411b-a7fd-b9b3c5e4441d",
   "metadata": {},
   "outputs": [
    {
     "data": {
      "text/plain": [
       "'BASAVARAJ'"
      ]
     },
     "execution_count": 10,
     "metadata": {},
     "output_type": "execute_result"
    }
   ],
   "source": [
    "str1.upper()"
   ]
  },
  {
   "cell_type": "code",
   "execution_count": 12,
   "id": "d5fccd97-cd93-4627-8873-4f0edf3bc3d6",
   "metadata": {
    "tags": []
   },
   "outputs": [
    {
     "data": {
      "text/plain": [
       "'Basavaraj'"
      ]
     },
     "execution_count": 12,
     "metadata": {},
     "output_type": "execute_result"
    }
   ],
   "source": [
    "str1.capitalize()"
   ]
  },
  {
   "cell_type": "markdown",
   "id": "3e34af9c-3b68-4538-9919-e0d60a132bcd",
   "metadata": {},
   "source": [
    "Remove duplicate Chars from a string"
   ]
  },
  {
   "cell_type": "code",
   "execution_count": 24,
   "id": "5b8ce61c-8c8c-4efd-b3d8-5e22e4c28451",
   "metadata": {},
   "outputs": [
    {
     "data": {
      "text/plain": [
       "'cba'"
      ]
     },
     "execution_count": 24,
     "metadata": {},
     "output_type": "execute_result"
    }
   ],
   "source": [
    "str2=\"aabbcc\"\n",
    "str3=set(list(str2))\n",
    "\"\".join(str3)"
   ]
  },
  {
   "cell_type": "code",
   "execution_count": 10,
   "id": "5a671f02-4ea9-4807-b2a8-a8416e7e4710",
   "metadata": {},
   "outputs": [
    {
     "data": {
      "text/plain": [
       "{'a': None, 'b': None, 'c': None}"
      ]
     },
     "execution_count": 10,
     "metadata": {},
     "output_type": "execute_result"
    }
   ],
   "source": [
    "dict.fromkeys(str2)"
   ]
  },
  {
   "cell_type": "code",
   "execution_count": 12,
   "id": "7915e192-1b3e-41cc-af3a-a1bfe7b24cec",
   "metadata": {},
   "outputs": [
    {
     "data": {
      "text/plain": [
       "'abc'"
      ]
     },
     "execution_count": 12,
     "metadata": {},
     "output_type": "execute_result"
    }
   ],
   "source": [
    "\"\".join(dict.fromkeys(str2)) # Joins only the keys from the dictionary"
   ]
  },
  {
   "cell_type": "code",
   "execution_count": 9,
   "id": "5b690a8b-645d-44bd-a7cc-7b1348e6f7fe",
   "metadata": {},
   "outputs": [
    {
     "data": {
      "text/plain": [
       "'abc'"
      ]
     },
     "execution_count": 9,
     "metadata": {},
     "output_type": "execute_result"
    }
   ],
   "source": [
    "def noCharRep(string):    \n",
    "    seenCharacters = set()    \n",
    "    outputString = ''    \n",
    "    for char in string:        \n",
    "        if char not in seenCharacters:            \n",
    "            seenCharacters.add(char)            \n",
    "            outputString += char    \n",
    "    return outputString\n",
    "        \n",
    "str2=\"aabbcc\"\n",
    "noCharRep(str2)"
   ]
  },
  {
   "cell_type": "code",
   "execution_count": null,
   "id": "d70f47eb-c8b3-444b-8109-b66f7871ea77",
   "metadata": {},
   "outputs": [],
   "source": []
  },
  {
   "cell_type": "markdown",
   "id": "3a201558-17be-4deb-9b9b-e46f84b326c9",
   "metadata": {},
   "source": [
    "Find pair of numbers in an array for whcih sum of them should be equal to a number\n",
    "1) Sorted Array As input"
   ]
  },
  {
   "cell_type": "code",
   "execution_count": 15,
   "id": "5eafbdd0-349d-4d4f-b411-5e8b85450c01",
   "metadata": {},
   "outputs": [
    {
     "name": "stdout",
     "output_type": "stream",
     "text": [
      "Yes\n"
     ]
    }
   ],
   "source": [
    "numList=[1,2,3,5,8]\n",
    "sumN = 8\n",
    "\n",
    "for n in numList:\n",
    "    if sumN - n in numList:\n",
    "        flag = 1\n",
    "        break\n",
    "    else:\n",
    "        flag =0\n",
    "    \n",
    "if flag == 1 :\n",
    "    print(\"Yes\")\n",
    "else :\n",
    "    print(\"No\")"
   ]
  },
  {
   "cell_type": "code",
   "execution_count": 38,
   "id": "f71dc743-1589-4ad7-bd4a-0d8ff9335148",
   "metadata": {},
   "outputs": [],
   "source": [
    "def findSumPair(numlist,sumn):\n",
    "    i=0\n",
    "    j=len(numlist)-1\n",
    "    while i < j:\n",
    "        listsum=numlist[i]+numlist[j]\n",
    "        if listsum == sumn:\n",
    "            print(numlist[i], \"-\", numlist[j])\n",
    "            return True\n",
    "        elif listsum < sumn:\n",
    "            i+=1\n",
    "        elif listsum > sumn:\n",
    "            j-=1\n",
    "    return False       "
   ]
  },
  {
   "cell_type": "code",
   "execution_count": 39,
   "id": "fc6e01ce-c904-4f5b-97e6-255afc1f8a15",
   "metadata": {},
   "outputs": [
    {
     "name": "stdout",
     "output_type": "stream",
     "text": [
      "3 - 5\n"
     ]
    },
    {
     "data": {
      "text/plain": [
       "True"
      ]
     },
     "execution_count": 39,
     "metadata": {},
     "output_type": "execute_result"
    }
   ],
   "source": [
    "numlist1=[1,2,3,5,8]\n",
    "sumn=8\n",
    "findSumPair(numlist1,sumn)"
   ]
  },
  {
   "cell_type": "code",
   "execution_count": null,
   "id": "a7cdd295-0766-4171-ad4a-acf0bc416c9b",
   "metadata": {},
   "outputs": [],
   "source": []
  },
  {
   "cell_type": "code",
   "execution_count": 40,
   "id": "eb65d72d-e6a0-41b9-85e0-147a65e05fab",
   "metadata": {},
   "outputs": [
    {
     "data": {
      "text/plain": [
       "False"
      ]
     },
     "execution_count": 40,
     "metadata": {},
     "output_type": "execute_result"
    }
   ],
   "source": [
    "numlist2=[1,2,4,3,8,9]\n",
    "findSumPair(numlist2,sumn)"
   ]
  },
  {
   "cell_type": "markdown",
   "id": "3654df04-ec71-4914-bf4c-caa86e54ec96",
   "metadata": {},
   "source": [
    "2) Unsorted Array as input"
   ]
  },
  {
   "cell_type": "code",
   "execution_count": 56,
   "id": "2e0e1035-ca16-4174-b051-205b20a31552",
   "metadata": {},
   "outputs": [],
   "source": [
    "def findSumPair(numlist,sumn):\n",
    "    lista=[]\n",
    "    for n in numlist:\n",
    "        if n in lista:\n",
    "            return True\n",
    "        else:\n",
    "            lista.append(sumn-n)\n",
    "            \n",
    "    return False"
   ]
  },
  {
   "cell_type": "code",
   "execution_count": 57,
   "id": "979ef6e5-2a82-481d-b3be-b83fa2df0d91",
   "metadata": {},
   "outputs": [
    {
     "data": {
      "text/plain": [
       "True"
      ]
     },
     "execution_count": 57,
     "metadata": {},
     "output_type": "execute_result"
    }
   ],
   "source": [
    "numlist1=[1,2,3,5,8]\n",
    "sumn=8\n",
    "findSumPair(numlist1,sumn)"
   ]
  },
  {
   "cell_type": "code",
   "execution_count": 51,
   "id": "7c9c1d3c-6424-413c-a567-a03de6e93894",
   "metadata": {},
   "outputs": [
    {
     "data": {
      "text/plain": [
       "False"
      ]
     },
     "execution_count": 51,
     "metadata": {},
     "output_type": "execute_result"
    }
   ],
   "source": [
    "numlist2=[1,2,4,3,8,9]\n",
    "findSumPair(numlist2,sumn)"
   ]
  },
  {
   "cell_type": "markdown",
   "id": "8bd4952b-4cd2-4400-861c-f396c7a8a0a4",
   "metadata": {},
   "source": [
    "Reverse of a String"
   ]
  },
  {
   "cell_type": "code",
   "execution_count": 73,
   "id": "16c8d66b-289a-4de5-bb63-42c9946e64a1",
   "metadata": {},
   "outputs": [],
   "source": [
    "def revstring(str1):\n",
    "    i=0\n",
    "    j=len(str1)-1\n",
    "    str2=\"\"\n",
    "    while i < len(str1):\n",
    "        str2+=str1[j]\n",
    "        i+=1\n",
    "        j-=1\n",
    "        \n",
    "    return str2"
   ]
  },
  {
   "cell_type": "code",
   "execution_count": 75,
   "id": "26de4cbb-89c6-447b-a361-e7db19cb9f24",
   "metadata": {},
   "outputs": [
    {
     "name": "stdout",
     "output_type": "stream",
     "text": [
      "jaravasaB ma I\n"
     ]
    }
   ],
   "source": [
    "string1 = \"I am Basavaraj\"\n",
    "print(revstring(string1))"
   ]
  },
  {
   "cell_type": "code",
   "execution_count": null,
   "id": "0620a7b4-b3c0-441d-9490-bfd7f4c95a78",
   "metadata": {},
   "outputs": [],
   "source": []
  },
  {
   "cell_type": "code",
   "execution_count": 1,
   "id": "db83143d-e281-490b-999f-d57496755b11",
   "metadata": {},
   "outputs": [
    {
     "name": "stdout",
     "output_type": "stream",
     "text": [
      "0 tic\n",
      "1 tac\n",
      "2 toe\n"
     ]
    }
   ],
   "source": [
    "for i, v in enumerate(['tic', 'tac', 'toe']):\n",
    "    print(i, v)"
   ]
  },
  {
   "cell_type": "code",
   "execution_count": null,
   "id": "7cafb8d7-928e-404f-aa83-ca26446c3014",
   "metadata": {},
   "outputs": [],
   "source": []
  },
  {
   "cell_type": "code",
   "execution_count": 5,
   "id": "563320e9-8d3c-4a6d-b9b9-a22d3fb2897c",
   "metadata": {},
   "outputs": [],
   "source": [
    "def vocabulary ( word ):\n",
    "    try:\n",
    "        return d[word]\n",
    "    except:\n",
    "        return \" word does not exists\""
   ]
  },
  {
   "cell_type": "code",
   "execution_count": 6,
   "id": "86d75c37-7e56-44fb-971c-51c6de33a2b8",
   "metadata": {},
   "outputs": [
    {
     "data": {
      "text/plain": [
       "' word does not exists'"
      ]
     },
     "execution_count": 6,
     "metadata": {},
     "output_type": "execute_result"
    }
   ],
   "source": [
    "vocabulary('work')"
   ]
  },
  {
   "cell_type": "code",
   "execution_count": null,
   "id": "6b0c72dd-2fa2-4c30-8091-47eff88a1aec",
   "metadata": {},
   "outputs": [],
   "source": []
  },
  {
   "cell_type": "raw",
   "id": "36272365-a97d-4653-9081-edbfca665325",
   "metadata": {},
   "source": [
    "Read from http url :- "
   ]
  },
  {
   "cell_type": "code",
   "execution_count": 11,
   "id": "1cee3e36-0361-402c-8aa3-8ef7a3f5fdf4",
   "metadata": {},
   "outputs": [
    {
     "name": "stdout",
     "output_type": "stream",
     "text": [
      "306\n"
     ]
    }
   ],
   "source": [
    "import requests\n",
    "response = requests.get(\"http://www.pythonhow.com/data/universe.txt\")\n",
    "text = response.text\n",
    "count_a = text.count(\"a\")    # count number of occurances of a\n",
    "print(count_a)\n",
    "#print(text)\n"
   ]
  },
  {
   "cell_type": "raw",
   "id": "b554fd2e-aa30-4a95-9536-b157ad5ddc99",
   "metadata": {},
   "source": [
    "Generate random password of length 6 chars from the set"
   ]
  },
  {
   "cell_type": "code",
   "execution_count": 37,
   "id": "38f7a901-b6cb-49ad-83b2-3ea9c2ee50ce",
   "metadata": {},
   "outputs": [
    {
     "name": "stdout",
     "output_type": "stream",
     "text": [
      "0123456789abcdefghijklmnopqrstuvwxyzABCDEFGHIJKLMNOPQRSTUVWXYZ!\"#$%&'()*+,-./:;<=>?@[\\]^_`{|}~ \t\n",
      "\u000b",
      "\f",
      "\n",
      "0g%pkN\n"
     ]
    }
   ],
   "source": [
    "    import random\n",
    "    import string\n",
    "    #characters = \"abcdefghijklmnopqrstuvwxyz01234567890ABCDEFGHIJKLMNOPQRSTUVWXYZ!@#$%^&*()?\"\n",
    "    character=string.printable\n",
    "    print(character)\n",
    "    range(0,10)\n",
    "    chosen = random.sample(characters, 6)\n",
    "    password = \"\".join(chosen)\n",
    "    print(password)"
   ]
  },
  {
   "cell_type": "raw",
   "id": "dafcf9fe-e44a-4cde-9281-f2f905417345",
   "metadata": {},
   "source": [
    "validate password criteria."
   ]
  },
  {
   "cell_type": "code",
   "execution_count": 38,
   "id": "3d98a3ef-eb1a-4ab0-a1c6-bc3a4d8936c3",
   "metadata": {},
   "outputs": [
    {
     "name": "stdin",
     "output_type": "stream",
     "text": [
      "Enter new password:  Basaavaraj\n"
     ]
    },
    {
     "name": "stdout",
     "output_type": "stream",
     "text": [
      "Password is not fine\n"
     ]
    },
    {
     "name": "stdin",
     "output_type": "stream",
     "text": [
      "Enter new password:  Basu1900!\n"
     ]
    },
    {
     "name": "stdout",
     "output_type": "stream",
     "text": [
      "Password is fine\n"
     ]
    }
   ],
   "source": [
    "while True:\n",
    "    psw = input(\"Enter new password: \")\n",
    "    if any(i.isdigit() for i in psw) and any(i.isupper() for i in psw) and len(psw) >= 5:\n",
    "        print(\"Password is fine\")\n",
    "        break\n",
    "    else:\n",
    "        print(\"Password is not fine\")"
   ]
  },
  {
   "cell_type": "code",
   "execution_count": null,
   "id": "1395ab85-68a1-4b4f-965f-926e248f1d1a",
   "metadata": {},
   "outputs": [],
   "source": [
    "import re\n",
    "psw = input(\"Enter new password: \")\n",
    "re.search(r'/d')"
   ]
  }
 ],
 "metadata": {
  "kernelspec": {
   "display_name": "Python 3 (ipykernel)",
   "language": "python",
   "name": "python3"
  },
  "language_info": {
   "codemirror_mode": {
    "name": "ipython",
    "version": 3
   },
   "file_extension": ".py",
   "mimetype": "text/x-python",
   "name": "python",
   "nbconvert_exporter": "python",
   "pygments_lexer": "ipython3",
   "version": "3.9.12"
  }
 },
 "nbformat": 4,
 "nbformat_minor": 5
}
