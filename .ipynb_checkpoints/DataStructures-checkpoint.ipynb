{
 "cells": [
  {
   "cell_type": "markdown",
   "id": "3dbc83d4-3376-4313-afc7-9ef85045efcb",
   "metadata": {},
   "source": [
    "Merg 2 Sorted arrays"
   ]
  },
  {
   "cell_type": "code",
   "execution_count": 82,
   "id": "95352a77-afb1-47c9-9466-c93c721fbbb0",
   "metadata": {},
   "outputs": [],
   "source": [
    "def mergeSortedArr(arr1,arr2):\n",
    "    arr3=[]\n",
    "    if len(arr1) == 0 :\n",
    "        return arr2\n",
    "    if len(arr2)==0:\n",
    "        return arr1\n",
    "    i = 0\n",
    "    j = 0\n",
    "    \n",
    "    while i < len(arr1) and j < len(arr2):\n",
    "        print(i,j)\n",
    "        if arr1[i] < arr2[j]:\n",
    "            arr3.append(arr1[i])\n",
    "            i+=1\n",
    "        else:\n",
    "            arr3.append(arr2[j])\n",
    "            j+=1\n",
    "    \n",
    "    while i < len(arr1):\n",
    "        arr3.append(arr1[i])\n",
    "        i+=1\n",
    "        \n",
    "    while j < len(arr2):\n",
    "        arr3.append(arr2[j])\n",
    "        j+=1\n",
    "    \n",
    "    return arr3\n"
   ]
  },
  {
   "cell_type": "code",
   "execution_count": 83,
   "id": "617b4623-39aa-4d8d-a82b-df5b88fba335",
   "metadata": {},
   "outputs": [
    {
     "name": "stdout",
     "output_type": "stream",
     "text": [
      "0 0\n",
      "1 0\n",
      "2 0\n",
      "2 1\n",
      "3 1\n",
      "3 2\n"
     ]
    },
    {
     "data": {
      "text/plain": [
       "[1, 2, 3, 3, 4, 4, 5, 6]"
      ]
     },
     "execution_count": 83,
     "metadata": {},
     "output_type": "execute_result"
    }
   ],
   "source": [
    "arrA=[1,2,3,4]\n",
    "arrB=[3,4,5,6]\n",
    "mergeSortedArr(arrA,arrB)\n",
    "#arrA.extend(arrB)\n",
    "#arrA"
   ]
  },
  {
   "cell_type": "code",
   "execution_count": null,
   "id": "e7aafa9a-b624-4e5f-a3e0-e054f30fa32f",
   "metadata": {},
   "outputs": [],
   "source": []
  },
  {
   "cell_type": "markdown",
   "id": "584ca800-ff46-424b-8c30-f22b36f03186",
   "metadata": {},
   "source": [
    "Given an array of integers nums and an integer target, return indices of the two numbers such that they add up to target.\n",
    "\n",
    "You may assume that each input would have exactly one solution, and you may not use the same element twice.\n",
    "\n",
    "You can return the answer in any order."
   ]
  },
  {
   "cell_type": "code",
   "execution_count": 98,
   "id": "3985ac2a-3be6-42cd-a4f5-7ca4714810bd",
   "metadata": {},
   "outputs": [],
   "source": [
    "# With Dictionary\n",
    "class Solution:\n",
    "    def twoSum(self, nums, target: int):\n",
    "        uniqnums={}\n",
    "        for n in range(len(nums)):\n",
    "            if target-nums[n] in uniqnums:\n",
    "                i=uniqnums[target-nums[n]]\n",
    "                return [i,n]\n",
    "            else:\n",
    "                uniqnums[nums[n]]=n"
   ]
  },
  {
   "cell_type": "code",
   "execution_count": 97,
   "id": "ae81dcd9-f952-47f5-ab2e-1ade1a908427",
   "metadata": {},
   "outputs": [
    {
     "data": {
      "text/plain": [
       "[0, 3]"
      ]
     },
     "execution_count": 97,
     "metadata": {},
     "output_type": "execute_result"
    }
   ],
   "source": [
    "sol = Solution()\n",
    "numList=[2,7,11,15]\n",
    "target=9\n",
    "sol.twoSum(numList,17)"
   ]
  },
  {
   "cell_type": "markdown",
   "id": "51803193-3bad-4236-bf16-cac61ce50385",
   "metadata": {},
   "source": [
    "Given an integer array nums, find the contiguous subarray (containing at least one number) which has the largest sum and return its sum.\n",
    "\n",
    "A subarray is a contiguous part of an array."
   ]
  },
  {
   "cell_type": "code",
   "execution_count": 103,
   "id": "2d94e9f7-b5d9-499e-ba17-c241b5bfd861",
   "metadata": {},
   "outputs": [],
   "source": [
    "class Solution:\n",
    "    def maxSubArray(self, nums) -> int:\n",
    "        max_sum,current_sum=0,0\n",
    "        for n in nums:\n",
    "            current_sum+=n\n",
    "            if current_sum < 0:\n",
    "                current_sum = 0\n",
    "            if max_sum < current_sum:\n",
    "                max_sum = current_sum\n",
    "                \n",
    "        return \"Hi\""
   ]
  },
  {
   "cell_type": "code",
   "execution_count": null,
   "id": "1349fb14-7cc4-4435-b02a-c630ef8033b8",
   "metadata": {},
   "outputs": [],
   "source": []
  }
 ],
 "metadata": {
  "kernelspec": {
   "display_name": "Python 3 (ipykernel)",
   "language": "python",
   "name": "python3"
  },
  "language_info": {
   "codemirror_mode": {
    "name": "ipython",
    "version": 3
   },
   "file_extension": ".py",
   "mimetype": "text/x-python",
   "name": "python",
   "nbconvert_exporter": "python",
   "pygments_lexer": "ipython3",
   "version": "3.9.12"
  }
 },
 "nbformat": 4,
 "nbformat_minor": 5
}
