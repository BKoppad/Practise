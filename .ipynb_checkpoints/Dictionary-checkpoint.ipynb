{
 "cells": [
  {
   "cell_type": "code",
   "execution_count": 10,
   "id": "e62af7b5-4ad1-47ff-9001-4e4313761012",
   "metadata": {},
   "outputs": [],
   "source": [
    "fruitDict = {'Banana':'2','Orange':'3','Apple':'4','melon':'1'}"
   ]
  },
  {
   "cell_type": "code",
   "execution_count": 11,
   "id": "70c14d4f-9608-4df7-961a-bb037b2bc8fa",
   "metadata": {},
   "outputs": [
    {
     "data": {
      "text/plain": [
       "{'Banana': '2', 'Orange': '3', 'Apple': '4', 'melon': '1'}"
      ]
     },
     "execution_count": 11,
     "metadata": {},
     "output_type": "execute_result"
    }
   ],
   "source": [
    "fruitDict"
   ]
  },
  {
   "cell_type": "raw",
   "id": "6124eda0-996e-411a-87af-600779a5eb9d",
   "metadata": {},
   "source": [
    "fruitDict.pop('Banana')"
   ]
  },
  {
   "cell_type": "code",
   "execution_count": 19,
   "id": "ee65e53a-a902-44e8-a7a7-d099409a4b46",
   "metadata": {},
   "outputs": [
    {
     "data": {
      "text/plain": [
       "{'Banana': 10, 'Orange': '3', 'Apple': '4', 'melon': '1'}"
      ]
     },
     "execution_count": 19,
     "metadata": {},
     "output_type": "execute_result"
    }
   ],
   "source": [
    "fruitDict"
   ]
  },
  {
   "cell_type": "code",
   "execution_count": 17,
   "id": "e59d0f8f-4543-4b53-9150-1b1ff3128845",
   "metadata": {},
   "outputs": [],
   "source": [
    "fruitDict['Banana']=10"
   ]
  },
  {
   "cell_type": "code",
   "execution_count": null,
   "id": "61f08890-5732-4bc5-9bc6-a687682fbff3",
   "metadata": {},
   "outputs": [],
   "source": []
  },
  {
   "cell_type": "code",
   "execution_count": 18,
   "id": "a3073a28-ab05-4111-b7b4-bc90f0bcae7f",
   "metadata": {},
   "outputs": [
    {
     "data": {
      "text/plain": [
       "{'Banana': 10, 'Orange': '3', 'Apple': '4', 'melon': '1'}"
      ]
     },
     "execution_count": 18,
     "metadata": {},
     "output_type": "execute_result"
    }
   ],
   "source": [
    "fruitDict"
   ]
  },
  {
   "cell_type": "code",
   "execution_count": null,
   "id": "22e98e3a-0c62-4eec-a4b2-6a27d2ab3458",
   "metadata": {},
   "outputs": [],
   "source": []
  }
 ],
 "metadata": {
  "kernelspec": {
   "display_name": "Python 3 (ipykernel)",
   "language": "python",
   "name": "python3"
  },
  "language_info": {
   "codemirror_mode": {
    "name": "ipython",
    "version": 3
   },
   "file_extension": ".py",
   "mimetype": "text/x-python",
   "name": "python",
   "nbconvert_exporter": "python",
   "pygments_lexer": "ipython3",
   "version": "3.9.12"
  }
 },
 "nbformat": 4,
 "nbformat_minor": 5
}
