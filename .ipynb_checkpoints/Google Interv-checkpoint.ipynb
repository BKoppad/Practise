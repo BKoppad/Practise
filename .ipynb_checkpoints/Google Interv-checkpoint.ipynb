{
 "cells": [
  {
   "cell_type": "code",
   "execution_count": 69,
   "id": "681244f6-c30f-447d-ab6f-38341e37dd9f",
   "metadata": {},
   "outputs": [
    {
     "name": "stdout",
     "output_type": "stream",
     "text": [
      "Here 1s\n",
      "[10]\n",
      "[20]\n",
      "Here 2s\n",
      "[10, 8]\n",
      "[20, 25]\n",
      "Here 2s\n",
      "[10, 8]\n",
      "[20, 25]\n"
     ]
    }
   ],
   "source": [
    "class bookStore:\n",
    "    def __init__(self):\n",
    "        self.start=[]\n",
    "        self.end=[]\n",
    "        \n",
    "    def printStore(self):\n",
    "        print(self.start)\n",
    "        print(self.end)\n",
    "        \n",
    "    def add_entry(self,start,end):\n",
    "        if len(self.start) == 0 and len(self.end) == 0:\n",
    "            self.start.append(start)\n",
    "            self.end.append(end)\n",
    "         #   print(\"Here 1s\")\n",
    "            return True\n",
    "        #print(\"Here 2s\")\n",
    "        for i in range(len(self.start)): \n",
    "            if start >=self.start[i] or end <= self.end[i]:\n",
    "                return False\n",
    "            else:\n",
    "                self.start.append(start)\n",
    "                self.end.append(end)\n",
    "                \n",
    "            \n",
    "\n",
    "b = bookStore()\n",
    "b.add_entry(10,20)\n",
    "b.printStore()\n",
    "b.add_entry(8,25)\n",
    "b.printStore()\n",
    "b.add_entry(9,15)\n",
    "b.printStore()\n"
   ]
  },
  {
   "cell_type": "code",
   "execution_count": null,
   "id": "6972101f-6437-404f-855b-5e52a8598b59",
   "metadata": {},
   "outputs": [],
   "source": []
  },
  {
   "cell_type": "code",
   "execution_count": null,
   "id": "eb72fa72-f85f-4980-bdca-0002b03c7910",
   "metadata": {},
   "outputs": [],
   "source": []
  },
  {
   "cell_type": "code",
   "execution_count": null,
   "id": "a3494d41-802c-455d-81fe-95f601994d25",
   "metadata": {},
   "outputs": [],
   "source": []
  },
  {
   "cell_type": "code",
   "execution_count": null,
   "id": "32823d3f-21f2-4443-9c4c-f22b363989dd",
   "metadata": {},
   "outputs": [],
   "source": []
  },
  {
   "cell_type": "code",
   "execution_count": null,
   "id": "7536e38a-432f-4808-8dcf-fd88ea39925d",
   "metadata": {},
   "outputs": [],
   "source": []
  }
 ],
 "metadata": {
  "kernelspec": {
   "display_name": "Python 3 (ipykernel)",
   "language": "python",
   "name": "python3"
  },
  "language_info": {
   "codemirror_mode": {
    "name": "ipython",
    "version": 3
   },
   "file_extension": ".py",
   "mimetype": "text/x-python",
   "name": "python",
   "nbconvert_exporter": "python",
   "pygments_lexer": "ipython3",
   "version": "3.9.12"
  }
 },
 "nbformat": 4,
 "nbformat_minor": 5
}
