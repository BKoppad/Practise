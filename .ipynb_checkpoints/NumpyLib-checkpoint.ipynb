{
 "cells": [
  {
   "cell_type": "code",
   "execution_count": 3,
   "id": "4ab61e62-e5c5-49b7-957a-add4fbc5219a",
   "metadata": {},
   "outputs": [],
   "source": [
    "import numpy as np\n",
    "a=np.array([1,2,3])\n",
    "b=np.array([4,5,6])"
   ]
  },
  {
   "cell_type": "code",
   "execution_count": 7,
   "id": "2ca44c3b-4e62-4620-8d6a-9c43ec056b8e",
   "metadata": {},
   "outputs": [
    {
     "data": {
      "text/plain": [
       "array([ 6, 15])"
      ]
     },
     "execution_count": 7,
     "metadata": {},
     "output_type": "execute_result"
    }
   ],
   "source": [
    "np.sum((a,b),axis=1)"
   ]
  },
  {
   "cell_type": "code",
   "execution_count": null,
   "id": "a208a7ea-ae93-4b16-828a-6ba1d59b7568",
   "metadata": {},
   "outputs": [],
   "source": [
    "# Find N Largest number from numpy array\n",
    "# [12,43,2,100,54,5,68] ==> 100 , 68"
   ]
  },
  {
   "cell_type": "code",
   "execution_count": 9,
   "id": "91b95400-6eb5-4bc3-9c14-fd244cf12bb7",
   "metadata": {},
   "outputs": [],
   "source": [
    "x = np.array([12,43,2,100,54,5,68])"
   ]
  },
  {
   "cell_type": "code",
   "execution_count": 12,
   "id": "d14a56da-8c65-43f7-8b93-41766a52f5b5",
   "metadata": {},
   "outputs": [
    {
     "data": {
      "text/plain": [
       "array([ 12,  43,   2, 100,  54,   5,  68])"
      ]
     },
     "execution_count": 12,
     "metadata": {},
     "output_type": "execute_result"
    }
   ],
   "source": [
    "x"
   ]
  },
  {
   "cell_type": "code",
   "execution_count": 10,
   "id": "cb3090fc-401f-4bbe-8221-5422f82c96ef",
   "metadata": {},
   "outputs": [],
   "source": [
    "temp = np.argsort(x)"
   ]
  },
  {
   "cell_type": "code",
   "execution_count": 14,
   "id": "719378e7-cdf4-4a77-9a86-92b8ffb3a92e",
   "metadata": {},
   "outputs": [
    {
     "data": {
      "text/plain": [
       "array([2, 5, 0, 1, 4, 6, 3])"
      ]
     },
     "execution_count": 14,
     "metadata": {},
     "output_type": "execute_result"
    }
   ],
   "source": [
    "temp"
   ]
  },
  {
   "cell_type": "code",
   "execution_count": 16,
   "id": "e594fcb6-4ebf-4486-891a-186162f4add1",
   "metadata": {},
   "outputs": [
    {
     "data": {
      "text/plain": [
       "array([ 68, 100])"
      ]
     },
     "execution_count": 16,
     "metadata": {},
     "output_type": "execute_result"
    }
   ],
   "source": [
    "x[temp[-2:]]"
   ]
  },
  {
   "cell_type": "code",
   "execution_count": 17,
   "id": "cbaa05cf-8961-4f33-a372-cbc88c398175",
   "metadata": {},
   "outputs": [
    {
     "data": {
      "text/plain": [
       "array([100,  68])"
      ]
     },
     "execution_count": 17,
     "metadata": {},
     "output_type": "execute_result"
    }
   ],
   "source": [
    "x[temp[-2:][::-1]]"
   ]
  },
  {
   "cell_type": "code",
   "execution_count": null,
   "id": "2020e75e-ca01-4c65-a69d-bd5cc6391e95",
   "metadata": {},
   "outputs": [],
   "source": []
  }
 ],
 "metadata": {
  "kernelspec": {
   "display_name": "Python 3 (ipykernel)",
   "language": "python",
   "name": "python3"
  },
  "language_info": {
   "codemirror_mode": {
    "name": "ipython",
    "version": 3
   },
   "file_extension": ".py",
   "mimetype": "text/x-python",
   "name": "python",
   "nbconvert_exporter": "python",
   "pygments_lexer": "ipython3",
   "version": "3.9.12"
  }
 },
 "nbformat": 4,
 "nbformat_minor": 5
}
