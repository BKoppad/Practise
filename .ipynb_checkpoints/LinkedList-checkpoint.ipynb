{
 "cells": [
  {
   "cell_type": "markdown",
   "id": "3712c314-4962-4d9c-a16c-cf736edf8c75",
   "metadata": {},
   "source": [
    "Creating a New Linked List Data Structure"
   ]
  },
  {
   "cell_type": "code",
   "execution_count": 13,
   "id": "75413221-3b29-41c1-83f1-e6f98f30f05b",
   "metadata": {},
   "outputs": [
    {
     "name": "stdout",
     "output_type": "stream",
     "text": [
      "3\n",
      "3\n",
      "4\n"
     ]
    }
   ],
   "source": [
    "class Node:\n",
    "    def __init__(self,value):\n",
    "        self.value=value\n",
    "        self.next=None\n",
    "\n",
    "class LinkedList:\n",
    "    def __init__(self,value):\n",
    "        new_node = Node(value)\n",
    "        self.head=new_node\n",
    "        self.tail=new_node\n",
    "        self.length=1\n",
    "        \n",
    "    def print_list(self):\n",
    "        temp=self.head\n",
    "        while temp is not None:\n",
    "            print(temp.value)\n",
    "            temp= temp.next\n",
    "    \n",
    "    def append(self,value):\n",
    "        new_node=Node(value)\n",
    "        if self.head != None:\n",
    "            new_node.next=None\n",
    "            self.tail.next=new_node\n",
    "        else:\n",
    "            self.head=new_node\n",
    "            self.tail=new_node\n",
    "        \n",
    "my_linked_list= LinkedList(3)\n",
    "my_linked_list.print_list()\n",
    "my_linked_list.append(4)\n",
    "my_linked_list.print_list()"
   ]
  },
  {
   "cell_type": "code",
   "execution_count": null,
   "id": "9e71dc91-fb66-4c36-b80e-78529a8a2c4e",
   "metadata": {},
   "outputs": [],
   "source": []
  }
 ],
 "metadata": {
  "kernelspec": {
   "display_name": "Python 3 (ipykernel)",
   "language": "python",
   "name": "python3"
  },
  "language_info": {
   "codemirror_mode": {
    "name": "ipython",
    "version": 3
   },
   "file_extension": ".py",
   "mimetype": "text/x-python",
   "name": "python",
   "nbconvert_exporter": "python",
   "pygments_lexer": "ipython3",
   "version": "3.9.12"
  }
 },
 "nbformat": 4,
 "nbformat_minor": 5
}
